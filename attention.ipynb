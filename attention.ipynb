{
 "cells": [
  {
   "cell_type": "code",
   "execution_count": 23,
   "metadata": {},
   "outputs": [],
   "source": [
    "import numpy as np  # linear algebra\n",
    "import pandas as pd  # data processing, CSV file I/O (e.g. pd.read_csv)\n",
    "\n",
    "# Input data files are available in the read-only \"../input/\" directory\n",
    "# For example, running this (by clicking run or pressing Shift+Enter) will list all files under the input directory\n",
    "\n",
    "import os"
   ]
  },
  {
   "cell_type": "code",
   "execution_count": 24,
   "metadata": {},
   "outputs": [],
   "source": [
    "import torch\n",
    "import torchvision\n",
    "from glob import glob\n",
    "import torch.nn as nn\n",
    "from tqdm import tqdm\n",
    "import matplotlib.pyplot as plt\n",
    "import torch.nn.functional as F\n",
    "import torchvision.transforms as transform\n",
    "from torch.utils.data import DataLoader, Dataset\n",
    "from torch.utils.tensorboard import SummaryWriter\n",
    "from torchvision.utils import make_grid"
   ]
  },
  {
   "cell_type": "code",
   "execution_count": 25,
   "metadata": {},
   "outputs": [],
   "source": [
    "train_path = glob(\"./cityscapes_data/train/*\")\n",
    "valid_path = glob(\"./cityscapes_data/val/*\")"
   ]
  },
  {
   "cell_type": "code",
   "execution_count": 26,
   "metadata": {},
   "outputs": [],
   "source": [
    "# fig,ax = plt.subplots(5,2,figsize=(10,30))\n",
    "# for i in range(5):\n",
    "#     img = plt.imread(train_path[i])\n",
    "#     ax[i][0].imshow(img[:,:256])\n",
    "#     ax[i][1].imshow(img[:,256:])"
   ]
  },
  {
   "cell_type": "code",
   "execution_count": 27,
   "metadata": {},
   "outputs": [],
   "source": [
    "train_dataset = []\n",
    "validation_dataset = []"
   ]
  },
  {
   "cell_type": "code",
   "execution_count": 28,
   "metadata": {},
   "outputs": [],
   "source": [
    "class MyDataset(Dataset):\n",
    "\n",
    "    def __init__(self, images_path, transform_img=None, transform_label=None):\n",
    "\n",
    "        self.images_path = images_path\n",
    "        self.transform_img = transform_img\n",
    "        self.transform_label = transform_label\n",
    "\n",
    "    def __len__(self):\n",
    "        return len(self.images_path)\n",
    "\n",
    "    def __getitem__(self, idx):\n",
    "\n",
    "        img = plt.imread(self.images_path[idx])\n",
    "        image, label = img[:, : int(img.shape[1] / 2)], img[:, int(img.shape[1] / 2) :]\n",
    "\n",
    "        if self.transform_img:\n",
    "            image = self.transform_img(image)\n",
    "\n",
    "        if self.transform_label:\n",
    "            label = self.transform_label(label)\n",
    "\n",
    "        return image, label"
   ]
  },
  {
   "cell_type": "code",
   "execution_count": 29,
   "metadata": {},
   "outputs": [],
   "source": [
    "mytransforms = transform.Compose(\n",
    "    [\n",
    "        transform.ToTensor(),\n",
    "        transform.RandomHorizontalFlip(p=0.9),\n",
    "    ]\n",
    ")"
   ]
  },
  {
   "cell_type": "code",
   "execution_count": 30,
   "metadata": {},
   "outputs": [],
   "source": [
    "# train dataset\n",
    "traindata = MyDataset(train_path, mytransforms, mytransforms)\n",
    "# val dataset\n",
    "valdata = MyDataset(valid_path, mytransforms, mytransforms)"
   ]
  },
  {
   "cell_type": "code",
   "execution_count": 31,
   "metadata": {},
   "outputs": [],
   "source": [
    "# Creating the DataLoaders\n",
    "batch_size = 128\n",
    "train_loader = DataLoader(traindata, batch_size)\n",
    "vaild_loader = DataLoader(valdata, 1)"
   ]
  },
  {
   "cell_type": "code",
   "execution_count": 32,
   "metadata": {},
   "outputs": [],
   "source": [
    "def show(img, output, label, denorm=False):\n",
    "    img, output, label = img.cpu(), output.cpu(), label.cpu()\n",
    "    fig, axs = plt.subplots(len(output), 3, figsize=(10, 10))\n",
    "\n",
    "    for i in range(len(output)):\n",
    "        if len(output) == 3:\n",
    "            Img, Lab, act = img[i], output[i], label[i]\n",
    "            Img, Lab, act = Img, Lab.detach().permute(1, 2, 0).numpy(), act\n",
    "            axs[i, 0].imshow(Img.permute(1, 2, 0))\n",
    "            axs[i, 1].imshow(Lab)\n",
    "            axs[i, 2].imshow(act.permute(1, 2, 0))\n",
    "        else:\n",
    "            Img, Lab, act = img[i], output[i], label[i]\n",
    "            Img, Lab, act = Img, Lab.detach().permute(1, 2, 0).numpy(), act\n",
    "            axs[0].imshow(Img.permute(1, 2, 0))\n",
    "            axs[1].imshow(Lab)\n",
    "            axs[2].imshow(act.permute(1, 2, 0))\n",
    "    plt.show()"
   ]
  },
  {
   "cell_type": "code",
   "execution_count": 33,
   "metadata": {},
   "outputs": [
    {
     "data": {
      "text/plain": [
       "'\\n    This is a helper function.\\n    This will help in ploting the masked got from the model.\\n\\n'"
      ]
     },
     "execution_count": 33,
     "metadata": {},
     "output_type": "execute_result"
    }
   ],
   "source": [
    "\"\"\"\n",
    "    This is a helper function.\n",
    "    This will help in ploting the masked got from the model.\n",
    "\n",
    "\"\"\"\n",
    "\n",
    "\n",
    "# def show(img, output, label, denorm=False):\n",
    "#     img, output, label = img.cpu(), output.cpu(), label.cpu()\n",
    "#     fig, ax = plt.subplots(len(output), 3, figsize=(10, 10))\n",
    "\n",
    "#     for i in range(len(output)):\n",
    "#         if len(output) == 3:\n",
    "#             Img, Lab, act = img[i], output[i], label[i]\n",
    "#             Img, Lab, act = Img, Lab.detach().permute(1, 2, 0).numpy(), act\n",
    "#             ax[i][0].imshow(Img.permute(1, 2, 0))\n",
    "#             ax[i][1].imshow(Lab)\n",
    "#             ax[i][2].imshow(act.permute(1, 2, 0))\n",
    "#         else:\n",
    "#             Img, Lab, act = img[i], output[i], label[i]\n",
    "#             Img, Lab, act = Img, Lab.detach().permute(1, 2, 0).numpy(), act\n",
    "#             ax[0].imshow(Img.permute(1, 2, 0))\n",
    "#             ax[1].imshow(Lab)\n",
    "#             ax[2].imshow(act.permute(1, 2, 0))\n",
    "#     plt.show()"
   ]
  },
  {
   "cell_type": "code",
   "execution_count": 34,
   "metadata": {},
   "outputs": [],
   "source": [
    "device = \"cuda\" if torch.cuda.is_available() else \"cpu\""
   ]
  },
  {
   "cell_type": "code",
   "execution_count": 35,
   "metadata": {},
   "outputs": [
    {
     "name": "stdout",
     "output_type": "stream",
     "text": [
      "cuda\n"
     ]
    }
   ],
   "source": [
    "print(device)"
   ]
  },
  {
   "cell_type": "code",
   "execution_count": 36,
   "metadata": {},
   "outputs": [],
   "source": [
    "\"\"\"\n",
    "\n",
    "    This Module representes the individual horizontal conv block layers in the Unet Model.\n",
    "    Conv() -> BatchNorm() -> ReLU() -> Conv() -> ReLU()\n",
    "\n",
    "\"\"\"\n",
    "\n",
    "\n",
    "class Convblock(nn.Module):\n",
    "\n",
    "    def __init__(self, input_channel, output_channel, kernal=3, stride=1, padding=1):\n",
    "\n",
    "        super().__init__()\n",
    "        self.convblock = nn.Sequential(\n",
    "            nn.Conv2d(input_channel, output_channel, kernal, stride, padding),\n",
    "            nn.BatchNorm2d(output_channel),\n",
    "            nn.ReLU(inplace=True),\n",
    "            nn.Conv2d(output_channel, output_channel, kernal),\n",
    "            nn.ReLU(inplace=True),\n",
    "        )\n",
    "\n",
    "    def forward(self, x):\n",
    "        x = self.convblock(x)\n",
    "        return x"
   ]
  },
  {
   "cell_type": "code",
   "execution_count": 37,
   "metadata": {},
   "outputs": [],
   "source": [
    "# Encoder -> BottelNeck => Decoder\n",
    "class UNet(nn.Module):\n",
    "\n",
    "    def __init__(self, input_channel, retain=True):\n",
    "\n",
    "        super().__init__()\n",
    "\n",
    "        self.conv1 = Convblock(input_channel, 32)\n",
    "        self.conv2 = Convblock(32, 64)\n",
    "        self.conv3 = Convblock(64, 128)\n",
    "        self.conv4 = Convblock(128, 256)\n",
    "        self.neck = nn.Conv2d(256, 512, 3, 1)\n",
    "        self.upconv4 = nn.ConvTranspose2d(512, 256, 3, 2, 0, 1)\n",
    "        self.dconv4 = Convblock(512, 256)\n",
    "        self.upconv3 = nn.ConvTranspose2d(256, 128, 3, 2, 0, 1)\n",
    "        self.dconv3 = Convblock(256, 128)\n",
    "        self.upconv2 = nn.ConvTranspose2d(128, 64, 3, 2, 0, 1)\n",
    "        self.dconv2 = Convblock(128, 64)\n",
    "        self.upconv1 = nn.ConvTranspose2d(64, 32, 3, 2, 0, 1)\n",
    "        self.dconv1 = Convblock(64, 32)\n",
    "        self.out = nn.Conv2d(32, 3, 1, 1)\n",
    "        self.retain = retain\n",
    "\n",
    "    def forward(self, x):\n",
    "\n",
    "        # Encoder Network\n",
    "\n",
    "        # Conv down 1\n",
    "        conv1 = self.conv1(x)\n",
    "        pool1 = F.max_pool2d(conv1, kernel_size=2, stride=2)\n",
    "        # Conv down 2\n",
    "        conv2 = self.conv2(pool1)\n",
    "        pool2 = F.max_pool2d(conv2, kernel_size=2, stride=2)\n",
    "        # Conv down 3\n",
    "        conv3 = self.conv3(pool2)\n",
    "        pool3 = F.max_pool2d(conv3, kernel_size=2, stride=2)\n",
    "        # Conv down 4\n",
    "        conv4 = self.conv4(pool3)\n",
    "        pool4 = F.max_pool2d(conv4, kernel_size=2, stride=2)\n",
    "\n",
    "        # BottelNeck\n",
    "        neck = self.neck(pool4)\n",
    "\n",
    "        # Decoder Network\n",
    "\n",
    "        # Upconv 1\n",
    "        upconv4 = self.upconv4(neck)\n",
    "        croped = self.crop(conv4, upconv4)\n",
    "        # Making the skip connection 1\n",
    "        dconv4 = self.dconv4(torch.cat([upconv4, croped], 1))\n",
    "        # Upconv 2\n",
    "        upconv3 = self.upconv3(dconv4)\n",
    "        croped = self.crop(conv3, upconv3)\n",
    "        # Making the skip connection 2\n",
    "        dconv3 = self.dconv3(torch.cat([upconv3, croped], 1))\n",
    "        # Upconv 3\n",
    "        upconv2 = self.upconv2(dconv3)\n",
    "        croped = self.crop(conv2, upconv2)\n",
    "        # Making the skip connection 3\n",
    "        dconv2 = self.dconv2(torch.cat([upconv2, croped], 1))\n",
    "        # Upconv 4\n",
    "        upconv1 = self.upconv1(dconv2)\n",
    "        croped = self.crop(conv1, upconv1)\n",
    "        # Making the skip connection 4\n",
    "        dconv1 = self.dconv1(torch.cat([upconv1, croped], 1))\n",
    "        # Output Layer\n",
    "        out = self.out(dconv1)\n",
    "\n",
    "        if self.retain == True:\n",
    "            out = F.interpolate(out, list(x.shape)[2:])\n",
    "\n",
    "        return out\n",
    "\n",
    "    def crop(self, input_tensor, target_tensor):\n",
    "        # For making the size of the encoder conv layer and the decoder Conv layer same\n",
    "        _, _, H, W = target_tensor.shape\n",
    "        return transform.CenterCrop([H, W])(input_tensor)"
   ]
  },
  {
   "cell_type": "code",
   "execution_count": 38,
   "metadata": {},
   "outputs": [],
   "source": [
    "model = UNet(3).float().to(device)"
   ]
  },
  {
   "cell_type": "code",
   "execution_count": 39,
   "metadata": {},
   "outputs": [],
   "source": [
    "lr = 0.01\n",
    "epochs = 300"
   ]
  },
  {
   "cell_type": "code",
   "execution_count": 40,
   "metadata": {},
   "outputs": [],
   "source": [
    "# Choosing the loss function to be Mean Square Error Loss\n",
    "lossfunc = nn.MSELoss()\n",
    "optimizer = torch.optim.Adam(model.parameters(), lr=lr)"
   ]
  },
  {
   "cell_type": "code",
   "execution_count": 41,
   "metadata": {},
   "outputs": [],
   "source": [
    "train_acc = []\n",
    "val_acc = []\n",
    "train_loss = []\n",
    "val_loss = []"
   ]
  },
  {
   "cell_type": "code",
   "execution_count": 42,
   "metadata": {},
   "outputs": [
    {
     "data": {
      "text/plain": [
       "<torch.utils.data.dataloader.DataLoader at 0x7f45e094c740>"
      ]
     },
     "execution_count": 42,
     "metadata": {},
     "output_type": "execute_result"
    }
   ],
   "source": [
    "train_loader"
   ]
  },
  {
   "cell_type": "code",
   "execution_count": 43,
   "metadata": {},
   "outputs": [
    {
     "data": {
      "text/plain": [
       "'\\n    Traning the Model.\\n# '"
      ]
     },
     "execution_count": 43,
     "metadata": {},
     "output_type": "execute_result"
    }
   ],
   "source": [
    "'''\n",
    "    Traning the Model.\n",
    "# '''\n",
    "# img , label  = train_loader\n",
    "# optimizer.zero_grad()\n",
    "# img = img.to(device)\n",
    "# label = label.to(device)\n",
    "# output = model(img)\n",
    "# loss = lossfunc(output,label)\n",
    "# loss.backward()\n",
    "# optimizer.step()\n",
    "# trainloss+=loss.item()\n",
    "# show(img, output, label)"
   ]
  },
  {
   "cell_type": "code",
   "execution_count": 44,
   "metadata": {},
   "outputs": [
    {
     "name": "stderr",
     "output_type": "stream",
     "text": [
      "100%|██████████| 24/24 [00:17<00:00,  1.41it/s]\n",
      "100%|██████████| 500/500 [00:01<00:00, 271.33it/s]\n"
     ]
    },
    {
     "name": "stdout",
     "output_type": "stream",
     "text": [
      "epoch : 0 ,train loss : 0.08028579829260707 ,valid loss : 0.04371966611966491 \n"
     ]
    },
    {
     "name": "stderr",
     "output_type": "stream",
     "text": [
      "100%|██████████| 24/24 [00:17<00:00,  1.41it/s]\n",
      "100%|██████████| 500/500 [00:01<00:00, 264.26it/s]\n"
     ]
    },
    {
     "name": "stdout",
     "output_type": "stream",
     "text": [
      "epoch : 1 ,train loss : 0.04061029525473714 ,valid loss : 0.03854642472043633 \n"
     ]
    },
    {
     "name": "stderr",
     "output_type": "stream",
     "text": [
      "100%|██████████| 24/24 [00:17<00:00,  1.41it/s]\n",
      "100%|██████████| 500/500 [00:01<00:00, 271.06it/s]\n"
     ]
    },
    {
     "name": "stdout",
     "output_type": "stream",
     "text": [
      "epoch : 2 ,train loss : 0.03708236292004585 ,valid loss : 0.03452441023848951 \n"
     ]
    },
    {
     "name": "stderr",
     "output_type": "stream",
     "text": [
      "100%|██████████| 24/24 [00:16<00:00,  1.42it/s]\n",
      "100%|██████████| 500/500 [00:01<00:00, 271.27it/s]\n"
     ]
    },
    {
     "name": "stdout",
     "output_type": "stream",
     "text": [
      "epoch : 3 ,train loss : 0.034024155543496214 ,valid loss : 0.03212330006249249 \n"
     ]
    },
    {
     "name": "stderr",
     "output_type": "stream",
     "text": [
      "100%|██████████| 24/24 [00:16<00:00,  1.41it/s]\n",
      "100%|██████████| 500/500 [00:01<00:00, 267.38it/s]\n"
     ]
    },
    {
     "name": "stdout",
     "output_type": "stream",
     "text": [
      "epoch : 4 ,train loss : 0.0318985564323763 ,valid loss : 0.030970719117671252 \n"
     ]
    },
    {
     "name": "stderr",
     "output_type": "stream",
     "text": [
      "100%|██████████| 24/24 [00:17<00:00,  1.41it/s]\n",
      "100%|██████████| 500/500 [00:01<00:00, 262.55it/s]\n"
     ]
    },
    {
     "name": "stdout",
     "output_type": "stream",
     "text": [
      "epoch : 5 ,train loss : 0.030026057735085487 ,valid loss : 0.030358766932040454 \n"
     ]
    },
    {
     "name": "stderr",
     "output_type": "stream",
     "text": [
      "100%|██████████| 24/24 [00:17<00:00,  1.41it/s]\n",
      "100%|██████████| 500/500 [00:01<00:00, 259.97it/s]\n"
     ]
    },
    {
     "name": "stdout",
     "output_type": "stream",
     "text": [
      "epoch : 6 ,train loss : 0.028636709864561755 ,valid loss : 0.029169312424957752 \n"
     ]
    },
    {
     "name": "stderr",
     "output_type": "stream",
     "text": [
      "100%|██████████| 24/24 [00:17<00:00,  1.41it/s]\n",
      "100%|██████████| 500/500 [00:01<00:00, 269.17it/s]\n"
     ]
    },
    {
     "name": "stdout",
     "output_type": "stream",
     "text": [
      "epoch : 7 ,train loss : 0.02745829150080681 ,valid loss : 0.028869086811318993 \n"
     ]
    },
    {
     "name": "stderr",
     "output_type": "stream",
     "text": [
      "100%|██████████| 24/24 [00:17<00:00,  1.41it/s]\n",
      "100%|██████████| 500/500 [00:01<00:00, 272.04it/s]\n"
     ]
    },
    {
     "name": "stdout",
     "output_type": "stream",
     "text": [
      "epoch : 8 ,train loss : 0.026615090124929946 ,valid loss : 0.028406713975593446 \n"
     ]
    },
    {
     "name": "stderr",
     "output_type": "stream",
     "text": [
      "100%|██████████| 24/24 [00:17<00:00,  1.40it/s]\n",
      "100%|██████████| 500/500 [00:01<00:00, 270.95it/s]\n"
     ]
    },
    {
     "name": "stdout",
     "output_type": "stream",
     "text": [
      "epoch : 9 ,train loss : 0.02600224354925255 ,valid loss : 0.02752671708725393 \n"
     ]
    },
    {
     "name": "stderr",
     "output_type": "stream",
     "text": [
      "100%|██████████| 24/24 [00:16<00:00,  1.41it/s]\n",
      "100%|██████████| 500/500 [00:01<00:00, 272.51it/s]\n"
     ]
    },
    {
     "name": "stdout",
     "output_type": "stream",
     "text": [
      "epoch : 10 ,train loss : 0.025289010955020785 ,valid loss : 0.027077724020928146 \n"
     ]
    },
    {
     "name": "stderr",
     "output_type": "stream",
     "text": [
      "100%|██████████| 24/24 [00:17<00:00,  1.41it/s]\n",
      "100%|██████████| 500/500 [00:01<00:00, 269.18it/s]\n"
     ]
    },
    {
     "name": "stdout",
     "output_type": "stream",
     "text": [
      "epoch : 11 ,train loss : 0.024392462413137157 ,valid loss : 0.026620782397687434 \n"
     ]
    },
    {
     "name": "stderr",
     "output_type": "stream",
     "text": [
      "100%|██████████| 24/24 [00:17<00:00,  1.40it/s]\n",
      "100%|██████████| 500/500 [00:01<00:00, 261.29it/s]\n"
     ]
    },
    {
     "name": "stdout",
     "output_type": "stream",
     "text": [
      "epoch : 12 ,train loss : 0.023885806168739993 ,valid loss : 0.02623262702859938 \n"
     ]
    },
    {
     "name": "stderr",
     "output_type": "stream",
     "text": [
      "100%|██████████| 24/24 [00:17<00:00,  1.41it/s]\n",
      "100%|██████████| 500/500 [00:01<00:00, 266.77it/s]\n"
     ]
    },
    {
     "name": "stdout",
     "output_type": "stream",
     "text": [
      "epoch : 13 ,train loss : 0.02333435827555756 ,valid loss : 0.026464480636641384 \n"
     ]
    },
    {
     "name": "stderr",
     "output_type": "stream",
     "text": [
      "100%|██████████| 24/24 [00:17<00:00,  1.40it/s]\n",
      "100%|██████████| 500/500 [00:01<00:00, 266.63it/s]\n"
     ]
    },
    {
     "name": "stdout",
     "output_type": "stream",
     "text": [
      "epoch : 14 ,train loss : 0.023214725389455754 ,valid loss : 0.025171961383894086 \n"
     ]
    },
    {
     "name": "stderr",
     "output_type": "stream",
     "text": [
      "100%|██████████| 24/24 [00:17<00:00,  1.41it/s]\n",
      "100%|██████████| 500/500 [00:01<00:00, 272.41it/s]\n"
     ]
    },
    {
     "name": "stdout",
     "output_type": "stream",
     "text": [
      "epoch : 15 ,train loss : 0.022439387704556186 ,valid loss : 0.025535785572603345 \n"
     ]
    },
    {
     "name": "stderr",
     "output_type": "stream",
     "text": [
      "100%|██████████| 24/24 [00:16<00:00,  1.42it/s]\n",
      "100%|██████████| 500/500 [00:01<00:00, 270.59it/s]\n"
     ]
    },
    {
     "name": "stdout",
     "output_type": "stream",
     "text": [
      "epoch : 16 ,train loss : 0.022277755740409095 ,valid loss : 0.02505108220130205 \n"
     ]
    },
    {
     "name": "stderr",
     "output_type": "stream",
     "text": [
      "100%|██████████| 24/24 [00:17<00:00,  1.41it/s]\n",
      "100%|██████████| 500/500 [00:01<00:00, 269.53it/s]\n"
     ]
    },
    {
     "name": "stdout",
     "output_type": "stream",
     "text": [
      "epoch : 17 ,train loss : 0.02225273420723776 ,valid loss : 0.025061900209635495 \n"
     ]
    },
    {
     "name": "stderr",
     "output_type": "stream",
     "text": [
      "100%|██████████| 24/24 [00:16<00:00,  1.41it/s]\n",
      "100%|██████████| 500/500 [00:01<00:00, 271.50it/s]\n"
     ]
    },
    {
     "name": "stdout",
     "output_type": "stream",
     "text": [
      "epoch : 18 ,train loss : 0.021936985896900296 ,valid loss : 0.024768802342936398 \n"
     ]
    },
    {
     "name": "stderr",
     "output_type": "stream",
     "text": [
      "100%|██████████| 24/24 [00:16<00:00,  1.41it/s]\n",
      "100%|██████████| 500/500 [00:01<00:00, 265.95it/s]\n"
     ]
    },
    {
     "name": "stdout",
     "output_type": "stream",
     "text": [
      "epoch : 19 ,train loss : 0.021395872967938583 ,valid loss : 0.02484972587414086 \n"
     ]
    },
    {
     "name": "stderr",
     "output_type": "stream",
     "text": [
      "100%|██████████| 24/24 [00:17<00:00,  1.41it/s]\n",
      "100%|██████████| 500/500 [00:01<00:00, 269.93it/s]\n"
     ]
    },
    {
     "name": "stdout",
     "output_type": "stream",
     "text": [
      "epoch : 20 ,train loss : 0.02102102991193533 ,valid loss : 0.024225329663604498 \n"
     ]
    },
    {
     "name": "stderr",
     "output_type": "stream",
     "text": [
      "100%|██████████| 24/24 [00:16<00:00,  1.42it/s]\n",
      "100%|██████████| 500/500 [00:01<00:00, 266.90it/s]\n"
     ]
    },
    {
     "name": "stdout",
     "output_type": "stream",
     "text": [
      "epoch : 21 ,train loss : 0.021059833622227114 ,valid loss : 0.024011707657948137 \n"
     ]
    },
    {
     "name": "stderr",
     "output_type": "stream",
     "text": [
      "100%|██████████| 24/24 [00:16<00:00,  1.42it/s]\n",
      "100%|██████████| 500/500 [00:01<00:00, 268.01it/s]\n"
     ]
    },
    {
     "name": "stdout",
     "output_type": "stream",
     "text": [
      "epoch : 22 ,train loss : 0.020760010307033856 ,valid loss : 0.02403610112518072 \n"
     ]
    },
    {
     "name": "stderr",
     "output_type": "stream",
     "text": [
      "100%|██████████| 24/24 [00:17<00:00,  1.41it/s]\n",
      "100%|██████████| 500/500 [00:01<00:00, 270.66it/s]\n"
     ]
    },
    {
     "name": "stdout",
     "output_type": "stream",
     "text": [
      "epoch : 23 ,train loss : 0.020506569805244606 ,valid loss : 0.02351544651016593 \n"
     ]
    },
    {
     "name": "stderr",
     "output_type": "stream",
     "text": [
      "100%|██████████| 24/24 [00:16<00:00,  1.42it/s]\n",
      "100%|██████████| 500/500 [00:01<00:00, 265.85it/s]\n"
     ]
    },
    {
     "name": "stdout",
     "output_type": "stream",
     "text": [
      "epoch : 24 ,train loss : 0.020811404334381223 ,valid loss : 0.023672721445560454 \n"
     ]
    },
    {
     "name": "stderr",
     "output_type": "stream",
     "text": [
      "100%|██████████| 24/24 [00:16<00:00,  1.42it/s]\n",
      "100%|██████████| 500/500 [00:01<00:00, 265.40it/s]\n"
     ]
    },
    {
     "name": "stdout",
     "output_type": "stream",
     "text": [
      "epoch : 25 ,train loss : 0.020359736401587725 ,valid loss : 0.023695490738376974 \n"
     ]
    },
    {
     "name": "stderr",
     "output_type": "stream",
     "text": [
      "100%|██████████| 24/24 [00:17<00:00,  1.41it/s]\n",
      "100%|██████████| 500/500 [00:01<00:00, 266.56it/s]\n"
     ]
    },
    {
     "name": "stdout",
     "output_type": "stream",
     "text": [
      "epoch : 26 ,train loss : 0.020272851300736267 ,valid loss : 0.023467082787305117 \n"
     ]
    },
    {
     "name": "stderr",
     "output_type": "stream",
     "text": [
      "100%|██████████| 24/24 [00:16<00:00,  1.42it/s]\n",
      "100%|██████████| 500/500 [00:01<00:00, 270.22it/s]\n"
     ]
    },
    {
     "name": "stdout",
     "output_type": "stream",
     "text": [
      "epoch : 27 ,train loss : 0.019908262727161247 ,valid loss : 0.023733650436624884 \n"
     ]
    },
    {
     "name": "stderr",
     "output_type": "stream",
     "text": [
      "100%|██████████| 24/24 [00:16<00:00,  1.42it/s]\n",
      "100%|██████████| 500/500 [00:01<00:00, 262.22it/s]\n"
     ]
    },
    {
     "name": "stdout",
     "output_type": "stream",
     "text": [
      "epoch : 28 ,train loss : 0.020198561328773696 ,valid loss : 0.024040885087102653 \n"
     ]
    },
    {
     "name": "stderr",
     "output_type": "stream",
     "text": [
      "100%|██████████| 24/24 [00:16<00:00,  1.43it/s]\n",
      "100%|██████████| 500/500 [00:01<00:00, 271.74it/s]\n"
     ]
    },
    {
     "name": "stdout",
     "output_type": "stream",
     "text": [
      "epoch : 29 ,train loss : 0.01993888507907589 ,valid loss : 0.02325884586572647 \n"
     ]
    },
    {
     "name": "stderr",
     "output_type": "stream",
     "text": [
      "100%|██████████| 24/24 [00:16<00:00,  1.42it/s]\n",
      "100%|██████████| 500/500 [00:01<00:00, 272.35it/s]\n"
     ]
    },
    {
     "name": "stdout",
     "output_type": "stream",
     "text": [
      "epoch : 30 ,train loss : 0.01982914252827565 ,valid loss : 0.02343405436258763 \n"
     ]
    },
    {
     "name": "stderr",
     "output_type": "stream",
     "text": [
      "100%|██████████| 24/24 [00:16<00:00,  1.42it/s]\n",
      "100%|██████████| 500/500 [00:01<00:00, 274.89it/s]\n"
     ]
    },
    {
     "name": "stdout",
     "output_type": "stream",
     "text": [
      "epoch : 31 ,train loss : 0.01970972299265365 ,valid loss : 0.02297542098350823 \n"
     ]
    },
    {
     "name": "stderr",
     "output_type": "stream",
     "text": [
      "100%|██████████| 24/24 [00:16<00:00,  1.42it/s]\n",
      "100%|██████████| 500/500 [00:01<00:00, 271.88it/s]\n"
     ]
    },
    {
     "name": "stdout",
     "output_type": "stream",
     "text": [
      "epoch : 32 ,train loss : 0.01953740743920207 ,valid loss : 0.023281193567439913 \n"
     ]
    },
    {
     "name": "stderr",
     "output_type": "stream",
     "text": [
      "100%|██████████| 24/24 [00:16<00:00,  1.43it/s]\n",
      "100%|██████████| 500/500 [00:01<00:00, 270.99it/s]\n"
     ]
    },
    {
     "name": "stdout",
     "output_type": "stream",
     "text": [
      "epoch : 33 ,train loss : 0.019284315795327227 ,valid loss : 0.02289388244971633 \n"
     ]
    },
    {
     "name": "stderr",
     "output_type": "stream",
     "text": [
      "100%|██████████| 24/24 [00:16<00:00,  1.42it/s]\n",
      "100%|██████████| 500/500 [00:01<00:00, 275.96it/s]\n"
     ]
    },
    {
     "name": "stdout",
     "output_type": "stream",
     "text": [
      "epoch : 34 ,train loss : 0.019172218705837924 ,valid loss : 0.023096976013854145 \n"
     ]
    },
    {
     "name": "stderr",
     "output_type": "stream",
     "text": [
      "100%|██████████| 24/24 [00:16<00:00,  1.42it/s]\n",
      "100%|██████████| 500/500 [00:01<00:00, 274.82it/s]\n"
     ]
    },
    {
     "name": "stdout",
     "output_type": "stream",
     "text": [
      "epoch : 35 ,train loss : 0.018999406990284722 ,valid loss : 0.023244301214814186 \n"
     ]
    },
    {
     "name": "stderr",
     "output_type": "stream",
     "text": [
      "100%|██████████| 24/24 [00:16<00:00,  1.41it/s]\n",
      "100%|██████████| 500/500 [00:01<00:00, 258.35it/s]\n"
     ]
    },
    {
     "name": "stdout",
     "output_type": "stream",
     "text": [
      "epoch : 36 ,train loss : 0.01871328156751891 ,valid loss : 0.023113067975267767 \n"
     ]
    },
    {
     "name": "stderr",
     "output_type": "stream",
     "text": [
      "100%|██████████| 24/24 [00:17<00:00,  1.41it/s]\n",
      "100%|██████████| 500/500 [00:01<00:00, 275.67it/s]\n"
     ]
    },
    {
     "name": "stdout",
     "output_type": "stream",
     "text": [
      "epoch : 37 ,train loss : 0.01883503724820912 ,valid loss : 0.0233460442032665 \n"
     ]
    },
    {
     "name": "stderr",
     "output_type": "stream",
     "text": [
      "100%|██████████| 24/24 [00:16<00:00,  1.42it/s]\n",
      "100%|██████████| 500/500 [00:01<00:00, 274.35it/s]\n"
     ]
    },
    {
     "name": "stdout",
     "output_type": "stream",
     "text": [
      "epoch : 38 ,train loss : 0.019003884013121326 ,valid loss : 0.02266537705808878 \n"
     ]
    },
    {
     "name": "stderr",
     "output_type": "stream",
     "text": [
      "100%|██████████| 24/24 [00:16<00:00,  1.43it/s]\n",
      "100%|██████████| 500/500 [00:01<00:00, 276.01it/s]\n"
     ]
    },
    {
     "name": "stdout",
     "output_type": "stream",
     "text": [
      "epoch : 39 ,train loss : 0.01881598844192922 ,valid loss : 0.023204223279841243 \n"
     ]
    },
    {
     "name": "stderr",
     "output_type": "stream",
     "text": [
      "100%|██████████| 24/24 [00:16<00:00,  1.42it/s]\n",
      "100%|██████████| 500/500 [00:01<00:00, 269.88it/s]\n"
     ]
    },
    {
     "name": "stdout",
     "output_type": "stream",
     "text": [
      "epoch : 40 ,train loss : 0.01847325327495734 ,valid loss : 0.02217210499942303 \n"
     ]
    },
    {
     "name": "stderr",
     "output_type": "stream",
     "text": [
      "100%|██████████| 24/24 [00:16<00:00,  1.42it/s]\n",
      "100%|██████████| 500/500 [00:01<00:00, 264.61it/s]\n"
     ]
    },
    {
     "name": "stdout",
     "output_type": "stream",
     "text": [
      "epoch : 41 ,train loss : 0.018432786377767723 ,valid loss : 0.023453853154554963 \n"
     ]
    },
    {
     "name": "stderr",
     "output_type": "stream",
     "text": [
      "100%|██████████| 24/24 [00:16<00:00,  1.42it/s]\n",
      "100%|██████████| 500/500 [00:01<00:00, 269.98it/s]\n"
     ]
    },
    {
     "name": "stdout",
     "output_type": "stream",
     "text": [
      "epoch : 42 ,train loss : 0.01877114890764157 ,valid loss : 0.02305336553789675 \n"
     ]
    },
    {
     "name": "stderr",
     "output_type": "stream",
     "text": [
      "100%|██████████| 24/24 [00:16<00:00,  1.43it/s]\n",
      "100%|██████████| 500/500 [00:01<00:00, 270.82it/s]\n"
     ]
    },
    {
     "name": "stdout",
     "output_type": "stream",
     "text": [
      "epoch : 43 ,train loss : 0.01860916893929243 ,valid loss : 0.023318094385787844 \n"
     ]
    },
    {
     "name": "stderr",
     "output_type": "stream",
     "text": [
      "100%|██████████| 24/24 [00:16<00:00,  1.42it/s]\n",
      "100%|██████████| 500/500 [00:01<00:00, 274.45it/s]\n"
     ]
    },
    {
     "name": "stdout",
     "output_type": "stream",
     "text": [
      "epoch : 44 ,train loss : 0.018321830856924255 ,valid loss : 0.02297236536256969 \n"
     ]
    },
    {
     "name": "stderr",
     "output_type": "stream",
     "text": [
      "100%|██████████| 24/24 [00:16<00:00,  1.42it/s]\n",
      "100%|██████████| 500/500 [00:01<00:00, 274.64it/s]\n"
     ]
    },
    {
     "name": "stdout",
     "output_type": "stream",
     "text": [
      "epoch : 45 ,train loss : 0.018374183525641758 ,valid loss : 0.023078713281080125 \n"
     ]
    },
    {
     "name": "stderr",
     "output_type": "stream",
     "text": [
      "100%|██████████| 24/24 [00:17<00:00,  1.41it/s]\n",
      "100%|██████████| 500/500 [00:01<00:00, 269.34it/s]\n"
     ]
    },
    {
     "name": "stdout",
     "output_type": "stream",
     "text": [
      "epoch : 46 ,train loss : 0.018065290292724967 ,valid loss : 0.02336199959926307 \n"
     ]
    },
    {
     "name": "stderr",
     "output_type": "stream",
     "text": [
      "100%|██████████| 24/24 [00:16<00:00,  1.41it/s]\n",
      "100%|██████████| 500/500 [00:01<00:00, 272.55it/s]\n"
     ]
    },
    {
     "name": "stdout",
     "output_type": "stream",
     "text": [
      "epoch : 47 ,train loss : 0.01770896336529404 ,valid loss : 0.02399556974880397 \n"
     ]
    },
    {
     "name": "stderr",
     "output_type": "stream",
     "text": [
      "100%|██████████| 24/24 [00:16<00:00,  1.42it/s]\n",
      "100%|██████████| 500/500 [00:01<00:00, 273.56it/s]\n"
     ]
    },
    {
     "name": "stdout",
     "output_type": "stream",
     "text": [
      "epoch : 48 ,train loss : 0.01788345390620331 ,valid loss : 0.02453794957511127 \n"
     ]
    },
    {
     "name": "stderr",
     "output_type": "stream",
     "text": [
      "100%|██████████| 24/24 [00:17<00:00,  1.41it/s]\n",
      "100%|██████████| 500/500 [00:01<00:00, 271.11it/s]\n"
     ]
    },
    {
     "name": "stdout",
     "output_type": "stream",
     "text": [
      "epoch : 49 ,train loss : 0.017893435161871214 ,valid loss : 0.023333998139947652 \n"
     ]
    },
    {
     "name": "stderr",
     "output_type": "stream",
     "text": [
      "100%|██████████| 24/24 [00:16<00:00,  1.42it/s]\n",
      "100%|██████████| 500/500 [00:01<00:00, 267.75it/s]\n"
     ]
    },
    {
     "name": "stdout",
     "output_type": "stream",
     "text": [
      "epoch : 50 ,train loss : 0.017704387738679845 ,valid loss : 0.02405297601595521 \n"
     ]
    },
    {
     "name": "stderr",
     "output_type": "stream",
     "text": [
      "100%|██████████| 24/24 [00:16<00:00,  1.42it/s]\n",
      "100%|██████████| 500/500 [00:01<00:00, 267.83it/s]\n"
     ]
    },
    {
     "name": "stdout",
     "output_type": "stream",
     "text": [
      "epoch : 51 ,train loss : 0.01753119573307534 ,valid loss : 0.023245460730046033 \n"
     ]
    },
    {
     "name": "stderr",
     "output_type": "stream",
     "text": [
      "100%|██████████| 24/24 [00:16<00:00,  1.42it/s]\n",
      "100%|██████████| 500/500 [00:01<00:00, 272.07it/s]\n"
     ]
    },
    {
     "name": "stdout",
     "output_type": "stream",
     "text": [
      "epoch : 52 ,train loss : 0.017690619686618447 ,valid loss : 0.02387812983430922 \n"
     ]
    },
    {
     "name": "stderr",
     "output_type": "stream",
     "text": [
      "100%|██████████| 24/24 [00:17<00:00,  1.40it/s]\n",
      "100%|██████████| 500/500 [00:01<00:00, 267.36it/s]\n"
     ]
    },
    {
     "name": "stdout",
     "output_type": "stream",
     "text": [
      "epoch : 53 ,train loss : 0.0178292291238904 ,valid loss : 0.02370061074011028 \n"
     ]
    },
    {
     "name": "stderr",
     "output_type": "stream",
     "text": [
      "100%|██████████| 24/24 [00:17<00:00,  1.40it/s]\n",
      "100%|██████████| 500/500 [00:01<00:00, 267.94it/s]\n"
     ]
    },
    {
     "name": "stdout",
     "output_type": "stream",
     "text": [
      "epoch : 54 ,train loss : 0.017499904458721478 ,valid loss : 0.023524864497594535 \n"
     ]
    },
    {
     "name": "stderr",
     "output_type": "stream",
     "text": [
      "100%|██████████| 24/24 [00:16<00:00,  1.41it/s]\n",
      "100%|██████████| 500/500 [00:01<00:00, 267.01it/s]\n"
     ]
    },
    {
     "name": "stdout",
     "output_type": "stream",
     "text": [
      "epoch : 55 ,train loss : 0.017307619952286284 ,valid loss : 0.022397237177938224 \n"
     ]
    },
    {
     "name": "stderr",
     "output_type": "stream",
     "text": [
      "100%|██████████| 24/24 [00:16<00:00,  1.42it/s]\n",
      "100%|██████████| 500/500 [00:01<00:00, 270.59it/s]\n"
     ]
    },
    {
     "name": "stdout",
     "output_type": "stream",
     "text": [
      "epoch : 56 ,train loss : 0.017012893959569435 ,valid loss : 0.023229811493307353 \n"
     ]
    },
    {
     "name": "stderr",
     "output_type": "stream",
     "text": [
      "100%|██████████| 24/24 [00:16<00:00,  1.42it/s]\n",
      "100%|██████████| 500/500 [00:01<00:00, 266.45it/s]\n"
     ]
    },
    {
     "name": "stdout",
     "output_type": "stream",
     "text": [
      "epoch : 57 ,train loss : 0.01712700421921909 ,valid loss : 0.02276845465041697 \n"
     ]
    },
    {
     "name": "stderr",
     "output_type": "stream",
     "text": [
      "100%|██████████| 24/24 [00:16<00:00,  1.42it/s]\n",
      "100%|██████████| 500/500 [00:01<00:00, 264.52it/s]\n"
     ]
    },
    {
     "name": "stdout",
     "output_type": "stream",
     "text": [
      "epoch : 58 ,train loss : 0.01735117860759298 ,valid loss : 0.02332376945577562 \n"
     ]
    },
    {
     "name": "stderr",
     "output_type": "stream",
     "text": [
      "100%|██████████| 24/24 [00:16<00:00,  1.42it/s]\n",
      "100%|██████████| 500/500 [00:01<00:00, 266.01it/s]\n"
     ]
    },
    {
     "name": "stdout",
     "output_type": "stream",
     "text": [
      "epoch : 59 ,train loss : 0.016897799059127767 ,valid loss : 0.023577497374266385 \n"
     ]
    },
    {
     "name": "stderr",
     "output_type": "stream",
     "text": [
      "100%|██████████| 24/24 [00:16<00:00,  1.41it/s]\n",
      "100%|██████████| 500/500 [00:01<00:00, 264.30it/s]\n"
     ]
    },
    {
     "name": "stdout",
     "output_type": "stream",
     "text": [
      "epoch : 60 ,train loss : 0.01709781870401154 ,valid loss : 0.02353463439643383 \n"
     ]
    },
    {
     "name": "stderr",
     "output_type": "stream",
     "text": [
      "100%|██████████| 24/24 [00:16<00:00,  1.41it/s]\n",
      "100%|██████████| 500/500 [00:01<00:00, 269.02it/s]\n"
     ]
    },
    {
     "name": "stdout",
     "output_type": "stream",
     "text": [
      "epoch : 61 ,train loss : 0.01680890889838338 ,valid loss : 0.02325943056680262 \n"
     ]
    },
    {
     "name": "stderr",
     "output_type": "stream",
     "text": [
      "100%|██████████| 24/24 [00:17<00:00,  1.41it/s]\n",
      "100%|██████████| 500/500 [00:01<00:00, 268.02it/s]\n"
     ]
    },
    {
     "name": "stdout",
     "output_type": "stream",
     "text": [
      "epoch : 62 ,train loss : 0.01689430163241923 ,valid loss : 0.02288624099083245 \n"
     ]
    },
    {
     "name": "stderr",
     "output_type": "stream",
     "text": [
      "100%|██████████| 24/24 [00:17<00:00,  1.40it/s]\n",
      "100%|██████████| 500/500 [00:01<00:00, 271.21it/s]\n"
     ]
    },
    {
     "name": "stdout",
     "output_type": "stream",
     "text": [
      "epoch : 63 ,train loss : 0.016856231571485598 ,valid loss : 0.023986273001879454 \n"
     ]
    },
    {
     "name": "stderr",
     "output_type": "stream",
     "text": [
      "100%|██████████| 24/24 [00:17<00:00,  1.40it/s]\n",
      "100%|██████████| 500/500 [00:01<00:00, 263.18it/s]\n"
     ]
    },
    {
     "name": "stdout",
     "output_type": "stream",
     "text": [
      "epoch : 64 ,train loss : 0.016614155805048842 ,valid loss : 0.02321145898476243 \n"
     ]
    },
    {
     "name": "stderr",
     "output_type": "stream",
     "text": [
      "100%|██████████| 24/24 [00:16<00:00,  1.42it/s]\n",
      "100%|██████████| 500/500 [00:01<00:00, 269.55it/s]\n"
     ]
    },
    {
     "name": "stdout",
     "output_type": "stream",
     "text": [
      "epoch : 65 ,train loss : 0.016228855315906305 ,valid loss : 0.022998054273426532 \n"
     ]
    },
    {
     "name": "stderr",
     "output_type": "stream",
     "text": [
      "100%|██████████| 24/24 [00:16<00:00,  1.42it/s]\n",
      "100%|██████████| 500/500 [00:01<00:00, 271.31it/s]\n"
     ]
    },
    {
     "name": "stdout",
     "output_type": "stream",
     "text": [
      "epoch : 66 ,train loss : 0.01618497314242025 ,valid loss : 0.022893022041767835 \n"
     ]
    },
    {
     "name": "stderr",
     "output_type": "stream",
     "text": [
      "100%|██████████| 24/24 [00:16<00:00,  1.42it/s]\n",
      "100%|██████████| 500/500 [00:01<00:00, 271.12it/s]\n"
     ]
    },
    {
     "name": "stdout",
     "output_type": "stream",
     "text": [
      "epoch : 67 ,train loss : 0.016341428621672094 ,valid loss : 0.023280837241560222 \n"
     ]
    },
    {
     "name": "stderr",
     "output_type": "stream",
     "text": [
      "100%|██████████| 24/24 [00:17<00:00,  1.40it/s]\n",
      "100%|██████████| 500/500 [00:01<00:00, 267.57it/s]\n"
     ]
    },
    {
     "name": "stdout",
     "output_type": "stream",
     "text": [
      "epoch : 68 ,train loss : 0.016135813590760033 ,valid loss : 0.02255847686715424 \n"
     ]
    },
    {
     "name": "stderr",
     "output_type": "stream",
     "text": [
      "100%|██████████| 24/24 [00:16<00:00,  1.42it/s]\n",
      "100%|██████████| 500/500 [00:01<00:00, 271.36it/s]\n"
     ]
    },
    {
     "name": "stdout",
     "output_type": "stream",
     "text": [
      "epoch : 69 ,train loss : 0.016039308315763872 ,valid loss : 0.02312475951574743 \n"
     ]
    },
    {
     "name": "stderr",
     "output_type": "stream",
     "text": [
      "100%|██████████| 24/24 [00:16<00:00,  1.42it/s]\n",
      "100%|██████████| 500/500 [00:01<00:00, 271.45it/s]\n"
     ]
    },
    {
     "name": "stdout",
     "output_type": "stream",
     "text": [
      "epoch : 70 ,train loss : 0.01661429018713534 ,valid loss : 0.023138706106692553 \n"
     ]
    },
    {
     "name": "stderr",
     "output_type": "stream",
     "text": [
      "100%|██████████| 24/24 [00:16<00:00,  1.42it/s]\n",
      "100%|██████████| 500/500 [00:01<00:00, 269.29it/s]\n"
     ]
    },
    {
     "name": "stdout",
     "output_type": "stream",
     "text": [
      "epoch : 71 ,train loss : 0.01611510190802316 ,valid loss : 0.023555937927216292 \n"
     ]
    },
    {
     "name": "stderr",
     "output_type": "stream",
     "text": [
      "100%|██████████| 24/24 [00:16<00:00,  1.42it/s]\n",
      "100%|██████████| 500/500 [00:01<00:00, 266.91it/s]\n"
     ]
    },
    {
     "name": "stdout",
     "output_type": "stream",
     "text": [
      "epoch : 72 ,train loss : 0.016058604621017974 ,valid loss : 0.023290362171828748 \n"
     ]
    },
    {
     "name": "stderr",
     "output_type": "stream",
     "text": [
      "100%|██████████| 24/24 [00:16<00:00,  1.42it/s]\n",
      "100%|██████████| 500/500 [00:01<00:00, 272.54it/s]\n"
     ]
    },
    {
     "name": "stdout",
     "output_type": "stream",
     "text": [
      "epoch : 73 ,train loss : 0.015562063315883279 ,valid loss : 0.023161450315266847 \n"
     ]
    },
    {
     "name": "stderr",
     "output_type": "stream",
     "text": [
      "100%|██████████| 24/24 [00:16<00:00,  1.42it/s]\n",
      "100%|██████████| 500/500 [00:01<00:00, 271.26it/s]\n"
     ]
    },
    {
     "name": "stdout",
     "output_type": "stream",
     "text": [
      "epoch : 74 ,train loss : 0.015818142021695774 ,valid loss : 0.023430928995832802 \n"
     ]
    },
    {
     "name": "stderr",
     "output_type": "stream",
     "text": [
      "100%|██████████| 24/24 [00:16<00:00,  1.42it/s]\n",
      "100%|██████████| 500/500 [00:01<00:00, 269.97it/s]\n"
     ]
    },
    {
     "name": "stdout",
     "output_type": "stream",
     "text": [
      "epoch : 75 ,train loss : 0.015597047943932315 ,valid loss : 0.023300828250125052 \n"
     ]
    },
    {
     "name": "stderr",
     "output_type": "stream",
     "text": [
      "100%|██████████| 24/24 [00:16<00:00,  1.42it/s]\n",
      "100%|██████████| 500/500 [00:01<00:00, 261.13it/s]\n"
     ]
    },
    {
     "name": "stdout",
     "output_type": "stream",
     "text": [
      "epoch : 76 ,train loss : 0.015531401964835823 ,valid loss : 0.024190865648910403 \n"
     ]
    },
    {
     "name": "stderr",
     "output_type": "stream",
     "text": [
      "100%|██████████| 24/24 [00:16<00:00,  1.42it/s]\n",
      "100%|██████████| 500/500 [00:01<00:00, 268.27it/s]\n"
     ]
    },
    {
     "name": "stdout",
     "output_type": "stream",
     "text": [
      "epoch : 77 ,train loss : 0.015840736450627446 ,valid loss : 0.023734877853654326 \n"
     ]
    },
    {
     "name": "stderr",
     "output_type": "stream",
     "text": [
      "100%|██████████| 24/24 [00:16<00:00,  1.42it/s]\n",
      "100%|██████████| 500/500 [00:01<00:00, 270.87it/s]\n"
     ]
    },
    {
     "name": "stdout",
     "output_type": "stream",
     "text": [
      "epoch : 78 ,train loss : 0.015423763232926527 ,valid loss : 0.0234152807649225 \n"
     ]
    },
    {
     "name": "stderr",
     "output_type": "stream",
     "text": [
      "100%|██████████| 24/24 [00:16<00:00,  1.42it/s]\n",
      "100%|██████████| 500/500 [00:01<00:00, 267.55it/s]\n"
     ]
    },
    {
     "name": "stdout",
     "output_type": "stream",
     "text": [
      "epoch : 79 ,train loss : 0.01582067075651139 ,valid loss : 0.023554623696953058 \n"
     ]
    },
    {
     "name": "stderr",
     "output_type": "stream",
     "text": [
      "100%|██████████| 24/24 [00:16<00:00,  1.42it/s]\n",
      "100%|██████████| 500/500 [00:01<00:00, 258.62it/s]\n"
     ]
    },
    {
     "name": "stdout",
     "output_type": "stream",
     "text": [
      "epoch : 80 ,train loss : 0.015744286550519366 ,valid loss : 0.02492877586185932 \n"
     ]
    },
    {
     "name": "stderr",
     "output_type": "stream",
     "text": [
      "100%|██████████| 24/24 [00:17<00:00,  1.41it/s]\n",
      "100%|██████████| 500/500 [00:01<00:00, 266.56it/s]\n"
     ]
    },
    {
     "name": "stdout",
     "output_type": "stream",
     "text": [
      "epoch : 81 ,train loss : 0.015075800629953543 ,valid loss : 0.024129523806273936 \n"
     ]
    },
    {
     "name": "stderr",
     "output_type": "stream",
     "text": [
      "100%|██████████| 24/24 [00:17<00:00,  1.41it/s]\n",
      "100%|██████████| 500/500 [00:01<00:00, 271.40it/s]\n"
     ]
    },
    {
     "name": "stdout",
     "output_type": "stream",
     "text": [
      "epoch : 82 ,train loss : 0.015521937127535542 ,valid loss : 0.02376308998093009 \n"
     ]
    },
    {
     "name": "stderr",
     "output_type": "stream",
     "text": [
      "100%|██████████| 24/24 [00:17<00:00,  1.41it/s]\n",
      "100%|██████████| 500/500 [00:01<00:00, 271.30it/s]\n"
     ]
    },
    {
     "name": "stdout",
     "output_type": "stream",
     "text": [
      "epoch : 83 ,train loss : 0.015355309199852249 ,valid loss : 0.023837827590294184 \n"
     ]
    },
    {
     "name": "stderr",
     "output_type": "stream",
     "text": [
      "100%|██████████| 24/24 [00:17<00:00,  1.41it/s]\n",
      "100%|██████████| 500/500 [00:01<00:00, 267.92it/s]\n"
     ]
    },
    {
     "name": "stdout",
     "output_type": "stream",
     "text": [
      "epoch : 84 ,train loss : 0.015500077124064168 ,valid loss : 0.02312486246228218 \n"
     ]
    },
    {
     "name": "stderr",
     "output_type": "stream",
     "text": [
      "100%|██████████| 24/24 [00:16<00:00,  1.41it/s]\n",
      "100%|██████████| 500/500 [00:01<00:00, 267.53it/s]\n"
     ]
    },
    {
     "name": "stdout",
     "output_type": "stream",
     "text": [
      "epoch : 85 ,train loss : 0.015351764275692403 ,valid loss : 0.023890669906511904 \n"
     ]
    },
    {
     "name": "stderr",
     "output_type": "stream",
     "text": [
      "100%|██████████| 24/24 [00:16<00:00,  1.42it/s]\n",
      "100%|██████████| 500/500 [00:01<00:00, 267.31it/s]\n"
     ]
    },
    {
     "name": "stdout",
     "output_type": "stream",
     "text": [
      "epoch : 86 ,train loss : 0.015491361264139414 ,valid loss : 0.02424482589587569 \n"
     ]
    },
    {
     "name": "stderr",
     "output_type": "stream",
     "text": [
      "100%|██████████| 24/24 [00:17<00:00,  1.41it/s]\n",
      "100%|██████████| 500/500 [00:01<00:00, 266.77it/s]\n"
     ]
    },
    {
     "name": "stdout",
     "output_type": "stream",
     "text": [
      "epoch : 87 ,train loss : 0.015203539243278405 ,valid loss : 0.024261286844499408 \n"
     ]
    },
    {
     "name": "stderr",
     "output_type": "stream",
     "text": [
      "100%|██████████| 24/24 [00:16<00:00,  1.41it/s]\n",
      "100%|██████████| 500/500 [00:01<00:00, 268.95it/s]\n"
     ]
    },
    {
     "name": "stdout",
     "output_type": "stream",
     "text": [
      "epoch : 88 ,train loss : 0.015306249454927942 ,valid loss : 0.024857529060915113 \n"
     ]
    },
    {
     "name": "stderr",
     "output_type": "stream",
     "text": [
      "100%|██████████| 24/24 [00:17<00:00,  1.41it/s]\n",
      "100%|██████████| 500/500 [00:01<00:00, 270.99it/s]\n"
     ]
    },
    {
     "name": "stdout",
     "output_type": "stream",
     "text": [
      "epoch : 89 ,train loss : 0.015211749821901321 ,valid loss : 0.024397414647974073 \n"
     ]
    },
    {
     "name": "stderr",
     "output_type": "stream",
     "text": [
      "100%|██████████| 24/24 [00:17<00:00,  1.40it/s]\n",
      "100%|██████████| 500/500 [00:01<00:00, 269.64it/s]\n"
     ]
    },
    {
     "name": "stdout",
     "output_type": "stream",
     "text": [
      "epoch : 90 ,train loss : 0.0152173563449954 ,valid loss : 0.023701445149257778 \n"
     ]
    },
    {
     "name": "stderr",
     "output_type": "stream",
     "text": [
      "100%|██████████| 24/24 [00:16<00:00,  1.41it/s]\n",
      "100%|██████████| 500/500 [00:01<00:00, 272.39it/s]\n"
     ]
    },
    {
     "name": "stdout",
     "output_type": "stream",
     "text": [
      "epoch : 91 ,train loss : 0.014700205142920217 ,valid loss : 0.024187899556010962 \n"
     ]
    },
    {
     "name": "stderr",
     "output_type": "stream",
     "text": [
      "100%|██████████| 24/24 [00:17<00:00,  1.40it/s]\n",
      "100%|██████████| 500/500 [00:01<00:00, 269.91it/s]\n"
     ]
    },
    {
     "name": "stdout",
     "output_type": "stream",
     "text": [
      "epoch : 92 ,train loss : 0.0151591666508466 ,valid loss : 0.02371802649833262 \n"
     ]
    },
    {
     "name": "stderr",
     "output_type": "stream",
     "text": [
      "100%|██████████| 24/24 [00:17<00:00,  1.41it/s]\n",
      "100%|██████████| 500/500 [00:01<00:00, 266.12it/s]\n"
     ]
    },
    {
     "name": "stdout",
     "output_type": "stream",
     "text": [
      "epoch : 93 ,train loss : 0.014928847163294753 ,valid loss : 0.025581837840378284 \n"
     ]
    },
    {
     "name": "stderr",
     "output_type": "stream",
     "text": [
      "100%|██████████| 24/24 [00:17<00:00,  1.41it/s]\n",
      "100%|██████████| 500/500 [00:01<00:00, 267.23it/s]\n"
     ]
    },
    {
     "name": "stdout",
     "output_type": "stream",
     "text": [
      "epoch : 94 ,train loss : 0.015057809883728623 ,valid loss : 0.02393927234224975 \n"
     ]
    },
    {
     "name": "stderr",
     "output_type": "stream",
     "text": [
      "100%|██████████| 24/24 [00:17<00:00,  1.41it/s]\n",
      "100%|██████████| 500/500 [00:01<00:00, 269.58it/s]\n"
     ]
    },
    {
     "name": "stdout",
     "output_type": "stream",
     "text": [
      "epoch : 95 ,train loss : 0.014931249703901509 ,valid loss : 0.02373141225799918 \n"
     ]
    },
    {
     "name": "stderr",
     "output_type": "stream",
     "text": [
      "100%|██████████| 24/24 [00:16<00:00,  1.42it/s]\n",
      "100%|██████████| 500/500 [00:01<00:00, 266.99it/s]\n"
     ]
    },
    {
     "name": "stdout",
     "output_type": "stream",
     "text": [
      "epoch : 96 ,train loss : 0.014319505038050314 ,valid loss : 0.0238479227386415 \n"
     ]
    },
    {
     "name": "stderr",
     "output_type": "stream",
     "text": [
      "100%|██████████| 24/24 [00:17<00:00,  1.41it/s]\n",
      "100%|██████████| 500/500 [00:01<00:00, 266.04it/s]\n"
     ]
    },
    {
     "name": "stdout",
     "output_type": "stream",
     "text": [
      "epoch : 97 ,train loss : 0.014401933061890304 ,valid loss : 0.023052949910983445 \n"
     ]
    },
    {
     "name": "stderr",
     "output_type": "stream",
     "text": [
      "100%|██████████| 24/24 [00:17<00:00,  1.41it/s]\n",
      "100%|██████████| 500/500 [00:01<00:00, 264.57it/s]\n"
     ]
    },
    {
     "name": "stdout",
     "output_type": "stream",
     "text": [
      "epoch : 98 ,train loss : 0.014758390801337859 ,valid loss : 0.023287488892674447 \n"
     ]
    },
    {
     "name": "stderr",
     "output_type": "stream",
     "text": [
      "100%|██████████| 24/24 [00:17<00:00,  1.41it/s]\n",
      "100%|██████████| 500/500 [00:01<00:00, 262.40it/s]\n"
     ]
    },
    {
     "name": "stdout",
     "output_type": "stream",
     "text": [
      "epoch : 99 ,train loss : 0.014132967412782213 ,valid loss : 0.02459958637319505 \n"
     ]
    },
    {
     "name": "stderr",
     "output_type": "stream",
     "text": [
      "100%|██████████| 24/24 [00:17<00:00,  1.40it/s]\n",
      "100%|██████████| 500/500 [00:01<00:00, 264.10it/s]\n"
     ]
    },
    {
     "name": "stdout",
     "output_type": "stream",
     "text": [
      "epoch : 100 ,train loss : 0.014629295949513713 ,valid loss : 0.02463552079163492 \n"
     ]
    },
    {
     "name": "stderr",
     "output_type": "stream",
     "text": [
      "100%|██████████| 24/24 [00:17<00:00,  1.40it/s]\n",
      "100%|██████████| 500/500 [00:01<00:00, 264.29it/s]\n"
     ]
    },
    {
     "name": "stdout",
     "output_type": "stream",
     "text": [
      "epoch : 101 ,train loss : 0.01429227824943761 ,valid loss : 0.02344547613989562 \n"
     ]
    },
    {
     "name": "stderr",
     "output_type": "stream",
     "text": [
      "100%|██████████| 24/24 [00:17<00:00,  1.40it/s]\n",
      "100%|██████████| 500/500 [00:01<00:00, 270.81it/s]\n"
     ]
    },
    {
     "name": "stdout",
     "output_type": "stream",
     "text": [
      "epoch : 102 ,train loss : 0.014358101063407958 ,valid loss : 0.024240782933309675 \n"
     ]
    },
    {
     "name": "stderr",
     "output_type": "stream",
     "text": [
      "100%|██████████| 24/24 [00:16<00:00,  1.42it/s]\n",
      "100%|██████████| 500/500 [00:01<00:00, 274.46it/s]\n"
     ]
    },
    {
     "name": "stdout",
     "output_type": "stream",
     "text": [
      "epoch : 103 ,train loss : 0.014170387565779189 ,valid loss : 0.024585770536214115 \n"
     ]
    },
    {
     "name": "stderr",
     "output_type": "stream",
     "text": [
      "100%|██████████| 24/24 [00:16<00:00,  1.41it/s]\n",
      "100%|██████████| 500/500 [00:01<00:00, 270.38it/s]\n"
     ]
    },
    {
     "name": "stdout",
     "output_type": "stream",
     "text": [
      "epoch : 104 ,train loss : 0.014141110237687826 ,valid loss : 0.02459785104729235 \n"
     ]
    },
    {
     "name": "stderr",
     "output_type": "stream",
     "text": [
      "100%|██████████| 24/24 [00:16<00:00,  1.42it/s]\n",
      "100%|██████████| 500/500 [00:01<00:00, 272.94it/s]\n"
     ]
    },
    {
     "name": "stdout",
     "output_type": "stream",
     "text": [
      "epoch : 105 ,train loss : 0.014600452734157443 ,valid loss : 0.023489593993872404 \n"
     ]
    },
    {
     "name": "stderr",
     "output_type": "stream",
     "text": [
      "100%|██████████| 24/24 [00:16<00:00,  1.41it/s]\n",
      "100%|██████████| 500/500 [00:01<00:00, 272.04it/s]\n"
     ]
    },
    {
     "name": "stdout",
     "output_type": "stream",
     "text": [
      "epoch : 106 ,train loss : 0.01391398417763412 ,valid loss : 0.024000681298784913 \n"
     ]
    },
    {
     "name": "stderr",
     "output_type": "stream",
     "text": [
      "100%|██████████| 24/24 [00:17<00:00,  1.41it/s]\n",
      "100%|██████████| 500/500 [00:01<00:00, 267.40it/s]\n"
     ]
    },
    {
     "name": "stdout",
     "output_type": "stream",
     "text": [
      "epoch : 107 ,train loss : 0.013917958441500863 ,valid loss : 0.02494423894584179 \n"
     ]
    },
    {
     "name": "stderr",
     "output_type": "stream",
     "text": [
      "100%|██████████| 24/24 [00:16<00:00,  1.41it/s]\n",
      "100%|██████████| 500/500 [00:01<00:00, 264.35it/s]\n"
     ]
    },
    {
     "name": "stdout",
     "output_type": "stream",
     "text": [
      "epoch : 108 ,train loss : 0.014262730604968965 ,valid loss : 0.023757202609442175 \n"
     ]
    },
    {
     "name": "stderr",
     "output_type": "stream",
     "text": [
      "100%|██████████| 24/24 [00:17<00:00,  1.40it/s]\n",
      "100%|██████████| 500/500 [00:01<00:00, 266.66it/s]\n"
     ]
    },
    {
     "name": "stdout",
     "output_type": "stream",
     "text": [
      "epoch : 109 ,train loss : 0.014143718406558037 ,valid loss : 0.023954874102026225 \n"
     ]
    },
    {
     "name": "stderr",
     "output_type": "stream",
     "text": [
      "100%|██████████| 24/24 [00:17<00:00,  1.41it/s]\n",
      "100%|██████████| 500/500 [00:01<00:00, 272.47it/s]\n"
     ]
    },
    {
     "name": "stdout",
     "output_type": "stream",
     "text": [
      "epoch : 110 ,train loss : 0.013934732026730975 ,valid loss : 0.023611526225693524 \n"
     ]
    },
    {
     "name": "stderr",
     "output_type": "stream",
     "text": [
      "100%|██████████| 24/24 [00:17<00:00,  1.41it/s]\n",
      "100%|██████████| 500/500 [00:01<00:00, 269.81it/s]\n"
     ]
    },
    {
     "name": "stdout",
     "output_type": "stream",
     "text": [
      "epoch : 111 ,train loss : 0.01429381970471392 ,valid loss : 0.02378284172900021 \n"
     ]
    },
    {
     "name": "stderr",
     "output_type": "stream",
     "text": [
      "100%|██████████| 24/24 [00:16<00:00,  1.42it/s]\n",
      "100%|██████████| 500/500 [00:01<00:00, 272.31it/s]\n"
     ]
    },
    {
     "name": "stdout",
     "output_type": "stream",
     "text": [
      "epoch : 112 ,train loss : 0.01405428652651608 ,valid loss : 0.02400045256316662 \n"
     ]
    },
    {
     "name": "stderr",
     "output_type": "stream",
     "text": [
      "100%|██████████| 24/24 [00:16<00:00,  1.42it/s]\n",
      "100%|██████████| 500/500 [00:01<00:00, 271.10it/s]\n"
     ]
    },
    {
     "name": "stdout",
     "output_type": "stream",
     "text": [
      "epoch : 113 ,train loss : 0.013938339737554392 ,valid loss : 0.023563398584723474 \n"
     ]
    },
    {
     "name": "stderr",
     "output_type": "stream",
     "text": [
      "100%|██████████| 24/24 [00:16<00:00,  1.42it/s]\n",
      "100%|██████████| 500/500 [00:01<00:00, 265.61it/s]\n"
     ]
    },
    {
     "name": "stdout",
     "output_type": "stream",
     "text": [
      "epoch : 114 ,train loss : 0.014200854153993228 ,valid loss : 0.023112607249990105 \n"
     ]
    },
    {
     "name": "stderr",
     "output_type": "stream",
     "text": [
      "100%|██████████| 24/24 [00:17<00:00,  1.41it/s]\n",
      "100%|██████████| 500/500 [00:01<00:00, 272.31it/s]\n"
     ]
    },
    {
     "name": "stdout",
     "output_type": "stream",
     "text": [
      "epoch : 115 ,train loss : 0.01380016712937504 ,valid loss : 0.02450558387674391 \n"
     ]
    },
    {
     "name": "stderr",
     "output_type": "stream",
     "text": [
      "100%|██████████| 24/24 [00:16<00:00,  1.41it/s]\n",
      "100%|██████████| 500/500 [00:01<00:00, 267.13it/s]\n"
     ]
    },
    {
     "name": "stdout",
     "output_type": "stream",
     "text": [
      "epoch : 116 ,train loss : 0.013763911207206547 ,valid loss : 0.024073989314958452 \n"
     ]
    },
    {
     "name": "stderr",
     "output_type": "stream",
     "text": [
      "100%|██████████| 24/24 [00:16<00:00,  1.42it/s]\n",
      "100%|██████████| 500/500 [00:01<00:00, 271.89it/s]\n"
     ]
    },
    {
     "name": "stdout",
     "output_type": "stream",
     "text": [
      "epoch : 117 ,train loss : 0.013864744803868234 ,valid loss : 0.02333382901549339 \n"
     ]
    },
    {
     "name": "stderr",
     "output_type": "stream",
     "text": [
      "100%|██████████| 24/24 [00:17<00:00,  1.40it/s]\n",
      "100%|██████████| 500/500 [00:01<00:00, 271.85it/s]\n"
     ]
    },
    {
     "name": "stdout",
     "output_type": "stream",
     "text": [
      "epoch : 118 ,train loss : 0.01385095490453144 ,valid loss : 0.024319751152768732 \n"
     ]
    },
    {
     "name": "stderr",
     "output_type": "stream",
     "text": [
      "100%|██████████| 24/24 [00:17<00:00,  1.41it/s]\n",
      "100%|██████████| 500/500 [00:01<00:00, 272.17it/s]\n"
     ]
    },
    {
     "name": "stdout",
     "output_type": "stream",
     "text": [
      "epoch : 119 ,train loss : 0.013903333456255496 ,valid loss : 0.024051917389035223 \n"
     ]
    },
    {
     "name": "stderr",
     "output_type": "stream",
     "text": [
      "100%|██████████| 24/24 [00:17<00:00,  1.40it/s]\n",
      "100%|██████████| 500/500 [00:01<00:00, 270.34it/s]\n"
     ]
    },
    {
     "name": "stdout",
     "output_type": "stream",
     "text": [
      "epoch : 120 ,train loss : 0.013235342184392115 ,valid loss : 0.02440558377839625 \n"
     ]
    },
    {
     "name": "stderr",
     "output_type": "stream",
     "text": [
      "100%|██████████| 24/24 [00:17<00:00,  1.40it/s]\n",
      "100%|██████████| 500/500 [00:01<00:00, 268.76it/s]\n"
     ]
    },
    {
     "name": "stdout",
     "output_type": "stream",
     "text": [
      "epoch : 121 ,train loss : 0.013563976235066852 ,valid loss : 0.025075876316055654 \n"
     ]
    },
    {
     "name": "stderr",
     "output_type": "stream",
     "text": [
      "100%|██████████| 24/24 [00:17<00:00,  1.40it/s]\n",
      "100%|██████████| 500/500 [00:01<00:00, 270.15it/s]\n"
     ]
    },
    {
     "name": "stdout",
     "output_type": "stream",
     "text": [
      "epoch : 122 ,train loss : 0.013592235938025018 ,valid loss : 0.02406833250168711 \n"
     ]
    },
    {
     "name": "stderr",
     "output_type": "stream",
     "text": [
      "100%|██████████| 24/24 [00:17<00:00,  1.41it/s]\n",
      "100%|██████████| 500/500 [00:01<00:00, 271.29it/s]\n"
     ]
    },
    {
     "name": "stdout",
     "output_type": "stream",
     "text": [
      "epoch : 123 ,train loss : 0.013391586874301234 ,valid loss : 0.025308010082691908 \n"
     ]
    },
    {
     "name": "stderr",
     "output_type": "stream",
     "text": [
      "100%|██████████| 24/24 [00:17<00:00,  1.41it/s]\n",
      "100%|██████████| 500/500 [00:01<00:00, 272.00it/s]\n"
     ]
    },
    {
     "name": "stdout",
     "output_type": "stream",
     "text": [
      "epoch : 124 ,train loss : 0.013095727927672366 ,valid loss : 0.024416500966995956 \n"
     ]
    },
    {
     "name": "stderr",
     "output_type": "stream",
     "text": [
      "100%|██████████| 24/24 [00:17<00:00,  1.41it/s]\n",
      "100%|██████████| 500/500 [00:01<00:00, 270.09it/s]\n"
     ]
    },
    {
     "name": "stdout",
     "output_type": "stream",
     "text": [
      "epoch : 125 ,train loss : 0.013234068950017294 ,valid loss : 0.02386091861035675 \n"
     ]
    },
    {
     "name": "stderr",
     "output_type": "stream",
     "text": [
      "100%|██████████| 24/24 [00:17<00:00,  1.41it/s]\n",
      "100%|██████████| 500/500 [00:01<00:00, 272.12it/s]\n"
     ]
    },
    {
     "name": "stdout",
     "output_type": "stream",
     "text": [
      "epoch : 126 ,train loss : 0.013534120089995364 ,valid loss : 0.02425214913673699 \n"
     ]
    },
    {
     "name": "stderr",
     "output_type": "stream",
     "text": [
      "100%|██████████| 24/24 [00:16<00:00,  1.41it/s]\n",
      "100%|██████████| 500/500 [00:01<00:00, 265.02it/s]\n"
     ]
    },
    {
     "name": "stdout",
     "output_type": "stream",
     "text": [
      "epoch : 127 ,train loss : 0.013474502329093715 ,valid loss : 0.024846492499113082 \n"
     ]
    },
    {
     "name": "stderr",
     "output_type": "stream",
     "text": [
      "100%|██████████| 24/24 [00:16<00:00,  1.41it/s]\n",
      "100%|██████████| 500/500 [00:01<00:00, 272.41it/s]\n"
     ]
    },
    {
     "name": "stdout",
     "output_type": "stream",
     "text": [
      "epoch : 128 ,train loss : 0.013298696023412049 ,valid loss : 0.024593408523127438 \n"
     ]
    },
    {
     "name": "stderr",
     "output_type": "stream",
     "text": [
      "100%|██████████| 24/24 [00:16<00:00,  1.41it/s]\n",
      "100%|██████████| 500/500 [00:01<00:00, 270.40it/s]\n"
     ]
    },
    {
     "name": "stdout",
     "output_type": "stream",
     "text": [
      "epoch : 129 ,train loss : 0.013525174038174251 ,valid loss : 0.025307852597907184 \n"
     ]
    },
    {
     "name": "stderr",
     "output_type": "stream",
     "text": [
      "100%|██████████| 24/24 [00:17<00:00,  1.40it/s]\n",
      "100%|██████████| 500/500 [00:01<00:00, 271.47it/s]\n"
     ]
    },
    {
     "name": "stdout",
     "output_type": "stream",
     "text": [
      "epoch : 130 ,train loss : 0.01359079599690934 ,valid loss : 0.023268583295866847 \n"
     ]
    },
    {
     "name": "stderr",
     "output_type": "stream",
     "text": [
      "100%|██████████| 24/24 [00:17<00:00,  1.41it/s]\n",
      "100%|██████████| 500/500 [00:01<00:00, 270.03it/s]\n"
     ]
    },
    {
     "name": "stdout",
     "output_type": "stream",
     "text": [
      "epoch : 131 ,train loss : 0.013443259871564806 ,valid loss : 0.024371039343997838 \n"
     ]
    },
    {
     "name": "stderr",
     "output_type": "stream",
     "text": [
      "100%|██████████| 24/24 [00:17<00:00,  1.41it/s]\n",
      "100%|██████████| 500/500 [00:01<00:00, 270.33it/s]\n"
     ]
    },
    {
     "name": "stdout",
     "output_type": "stream",
     "text": [
      "epoch : 132 ,train loss : 0.013162190676666796 ,valid loss : 0.02435520757175982 \n"
     ]
    },
    {
     "name": "stderr",
     "output_type": "stream",
     "text": [
      "100%|██████████| 24/24 [00:16<00:00,  1.42it/s]\n",
      "100%|██████████| 500/500 [00:01<00:00, 273.10it/s]\n"
     ]
    },
    {
     "name": "stdout",
     "output_type": "stream",
     "text": [
      "epoch : 133 ,train loss : 0.013308908402298888 ,valid loss : 0.024975531801581383 \n"
     ]
    },
    {
     "name": "stderr",
     "output_type": "stream",
     "text": [
      "100%|██████████| 24/24 [00:16<00:00,  1.42it/s]\n",
      "100%|██████████| 500/500 [00:01<00:00, 268.77it/s]\n"
     ]
    },
    {
     "name": "stdout",
     "output_type": "stream",
     "text": [
      "epoch : 134 ,train loss : 0.013563315733335912 ,valid loss : 0.023984654896892606 \n"
     ]
    },
    {
     "name": "stderr",
     "output_type": "stream",
     "text": [
      "100%|██████████| 24/24 [00:17<00:00,  1.41it/s]\n",
      "100%|██████████| 500/500 [00:01<00:00, 269.11it/s]\n"
     ]
    },
    {
     "name": "stdout",
     "output_type": "stream",
     "text": [
      "epoch : 135 ,train loss : 0.013466109172441065 ,valid loss : 0.02467180303297937 \n"
     ]
    },
    {
     "name": "stderr",
     "output_type": "stream",
     "text": [
      "100%|██████████| 24/24 [00:17<00:00,  1.40it/s]\n",
      "100%|██████████| 500/500 [00:01<00:00, 264.47it/s]\n"
     ]
    },
    {
     "name": "stdout",
     "output_type": "stream",
     "text": [
      "epoch : 136 ,train loss : 0.01358499207223455 ,valid loss : 0.024311294434592127 \n"
     ]
    },
    {
     "name": "stderr",
     "output_type": "stream",
     "text": [
      "100%|██████████| 24/24 [00:16<00:00,  1.41it/s]\n",
      "100%|██████████| 500/500 [00:01<00:00, 269.23it/s]\n"
     ]
    },
    {
     "name": "stdout",
     "output_type": "stream",
     "text": [
      "epoch : 137 ,train loss : 0.013653763919137418 ,valid loss : 0.025445252656936646 \n"
     ]
    },
    {
     "name": "stderr",
     "output_type": "stream",
     "text": [
      "100%|██████████| 24/24 [00:17<00:00,  1.39it/s]\n",
      "100%|██████████| 500/500 [00:01<00:00, 268.20it/s]\n"
     ]
    },
    {
     "name": "stdout",
     "output_type": "stream",
     "text": [
      "epoch : 138 ,train loss : 0.01312182389665395 ,valid loss : 0.024698617499321698 \n"
     ]
    },
    {
     "name": "stderr",
     "output_type": "stream",
     "text": [
      "100%|██████████| 24/24 [00:17<00:00,  1.39it/s]\n",
      "100%|██████████| 500/500 [00:01<00:00, 271.53it/s]\n"
     ]
    },
    {
     "name": "stdout",
     "output_type": "stream",
     "text": [
      "epoch : 139 ,train loss : 0.013490058908549448 ,valid loss : 0.023616059916093946 \n"
     ]
    },
    {
     "name": "stderr",
     "output_type": "stream",
     "text": [
      "100%|██████████| 24/24 [00:17<00:00,  1.40it/s]\n",
      "100%|██████████| 500/500 [00:01<00:00, 269.42it/s]\n"
     ]
    },
    {
     "name": "stdout",
     "output_type": "stream",
     "text": [
      "epoch : 140 ,train loss : 0.013366620095136264 ,valid loss : 0.02427280744165182 \n"
     ]
    },
    {
     "name": "stderr",
     "output_type": "stream",
     "text": [
      "100%|██████████| 24/24 [00:16<00:00,  1.41it/s]\n",
      "100%|██████████| 500/500 [00:01<00:00, 268.75it/s]\n"
     ]
    },
    {
     "name": "stdout",
     "output_type": "stream",
     "text": [
      "epoch : 141 ,train loss : 0.01298572674083213 ,valid loss : 0.024006142241880298 \n"
     ]
    },
    {
     "name": "stderr",
     "output_type": "stream",
     "text": [
      "100%|██████████| 24/24 [00:16<00:00,  1.42it/s]\n",
      "100%|██████████| 500/500 [00:01<00:00, 272.15it/s]\n"
     ]
    },
    {
     "name": "stdout",
     "output_type": "stream",
     "text": [
      "epoch : 142 ,train loss : 0.013139533732707301 ,valid loss : 0.02359510479029268 \n"
     ]
    },
    {
     "name": "stderr",
     "output_type": "stream",
     "text": [
      "100%|██████████| 24/24 [00:16<00:00,  1.42it/s]\n",
      "100%|██████████| 500/500 [00:01<00:00, 268.98it/s]\n"
     ]
    },
    {
     "name": "stdout",
     "output_type": "stream",
     "text": [
      "epoch : 143 ,train loss : 0.01339690329041332 ,valid loss : 0.02406919303163886 \n"
     ]
    },
    {
     "name": "stderr",
     "output_type": "stream",
     "text": [
      "100%|██████████| 24/24 [00:16<00:00,  1.42it/s]\n",
      "100%|██████████| 500/500 [00:01<00:00, 272.23it/s]\n"
     ]
    },
    {
     "name": "stdout",
     "output_type": "stream",
     "text": [
      "epoch : 144 ,train loss : 0.013057331593396762 ,valid loss : 0.02453430297039449 \n"
     ]
    },
    {
     "name": "stderr",
     "output_type": "stream",
     "text": [
      "100%|██████████| 24/24 [00:17<00:00,  1.41it/s]\n",
      "100%|██████████| 500/500 [00:01<00:00, 270.79it/s]\n"
     ]
    },
    {
     "name": "stdout",
     "output_type": "stream",
     "text": [
      "epoch : 145 ,train loss : 0.012777353132454058 ,valid loss : 0.024882057406008243 \n"
     ]
    },
    {
     "name": "stderr",
     "output_type": "stream",
     "text": [
      "100%|██████████| 24/24 [00:16<00:00,  1.41it/s]\n",
      "100%|██████████| 500/500 [00:01<00:00, 269.86it/s]\n"
     ]
    },
    {
     "name": "stdout",
     "output_type": "stream",
     "text": [
      "epoch : 146 ,train loss : 0.013159630897765359 ,valid loss : 0.024288726760074496 \n"
     ]
    },
    {
     "name": "stderr",
     "output_type": "stream",
     "text": [
      "100%|██████████| 24/24 [00:16<00:00,  1.42it/s]\n",
      "100%|██████████| 500/500 [00:01<00:00, 265.19it/s]\n"
     ]
    },
    {
     "name": "stdout",
     "output_type": "stream",
     "text": [
      "epoch : 147 ,train loss : 0.013375865140308937 ,valid loss : 0.025199486430734396 \n"
     ]
    },
    {
     "name": "stderr",
     "output_type": "stream",
     "text": [
      "100%|██████████| 24/24 [00:17<00:00,  1.41it/s]\n",
      "100%|██████████| 500/500 [00:01<00:00, 270.45it/s]\n"
     ]
    },
    {
     "name": "stdout",
     "output_type": "stream",
     "text": [
      "epoch : 148 ,train loss : 0.013093879291166862 ,valid loss : 0.024887409390881656 \n"
     ]
    },
    {
     "name": "stderr",
     "output_type": "stream",
     "text": [
      "100%|██████████| 24/24 [00:17<00:00,  1.41it/s]\n",
      "100%|██████████| 500/500 [00:01<00:00, 267.10it/s]\n"
     ]
    },
    {
     "name": "stdout",
     "output_type": "stream",
     "text": [
      "epoch : 149 ,train loss : 0.013029577947842578 ,valid loss : 0.023994962107390164 \n"
     ]
    },
    {
     "name": "stderr",
     "output_type": "stream",
     "text": [
      "100%|██████████| 24/24 [00:17<00:00,  1.41it/s]\n",
      "100%|██████████| 500/500 [00:01<00:00, 261.51it/s]\n"
     ]
    },
    {
     "name": "stdout",
     "output_type": "stream",
     "text": [
      "epoch : 150 ,train loss : 0.012801790648760894 ,valid loss : 0.02475787247531116 \n"
     ]
    },
    {
     "name": "stderr",
     "output_type": "stream",
     "text": [
      "100%|██████████| 24/24 [00:16<00:00,  1.42it/s]\n",
      "100%|██████████| 500/500 [00:01<00:00, 263.70it/s]\n"
     ]
    },
    {
     "name": "stdout",
     "output_type": "stream",
     "text": [
      "epoch : 151 ,train loss : 0.013107180905838808 ,valid loss : 0.02505431760381907 \n"
     ]
    },
    {
     "name": "stderr",
     "output_type": "stream",
     "text": [
      "100%|██████████| 24/24 [00:17<00:00,  1.41it/s]\n",
      "100%|██████████| 500/500 [00:01<00:00, 270.40it/s]\n"
     ]
    },
    {
     "name": "stdout",
     "output_type": "stream",
     "text": [
      "epoch : 152 ,train loss : 0.013387389519872764 ,valid loss : 0.024209896855056284 \n"
     ]
    },
    {
     "name": "stderr",
     "output_type": "stream",
     "text": [
      "100%|██████████| 24/24 [00:17<00:00,  1.41it/s]\n",
      "100%|██████████| 500/500 [00:01<00:00, 270.23it/s]\n"
     ]
    },
    {
     "name": "stdout",
     "output_type": "stream",
     "text": [
      "epoch : 153 ,train loss : 0.012934082110101977 ,valid loss : 0.025276201931759716 \n"
     ]
    },
    {
     "name": "stderr",
     "output_type": "stream",
     "text": [
      "100%|██████████| 24/24 [00:17<00:00,  1.41it/s]\n",
      "100%|██████████| 500/500 [00:01<00:00, 271.23it/s]\n"
     ]
    },
    {
     "name": "stdout",
     "output_type": "stream",
     "text": [
      "epoch : 154 ,train loss : 0.01305900413232545 ,valid loss : 0.025537728033959865 \n"
     ]
    },
    {
     "name": "stderr",
     "output_type": "stream",
     "text": [
      "100%|██████████| 24/24 [00:17<00:00,  1.40it/s]\n",
      "100%|██████████| 500/500 [00:01<00:00, 272.79it/s]\n"
     ]
    },
    {
     "name": "stdout",
     "output_type": "stream",
     "text": [
      "epoch : 155 ,train loss : 0.012683890837555131 ,valid loss : 0.02454249046742916 \n"
     ]
    },
    {
     "name": "stderr",
     "output_type": "stream",
     "text": [
      "100%|██████████| 24/24 [00:17<00:00,  1.40it/s]\n",
      "100%|██████████| 500/500 [00:01<00:00, 267.36it/s]\n"
     ]
    },
    {
     "name": "stdout",
     "output_type": "stream",
     "text": [
      "epoch : 156 ,train loss : 0.012667484930716455 ,valid loss : 0.024800292955711484 \n"
     ]
    },
    {
     "name": "stderr",
     "output_type": "stream",
     "text": [
      "100%|██████████| 24/24 [00:16<00:00,  1.42it/s]\n",
      "100%|██████████| 500/500 [00:01<00:00, 270.16it/s]\n"
     ]
    },
    {
     "name": "stdout",
     "output_type": "stream",
     "text": [
      "epoch : 157 ,train loss : 0.0128682020585984 ,valid loss : 0.024726494340226054 \n"
     ]
    },
    {
     "name": "stderr",
     "output_type": "stream",
     "text": [
      "100%|██████████| 24/24 [00:16<00:00,  1.41it/s]\n",
      "100%|██████████| 500/500 [00:01<00:00, 271.57it/s]\n"
     ]
    },
    {
     "name": "stdout",
     "output_type": "stream",
     "text": [
      "epoch : 158 ,train loss : 0.012628869852051139 ,valid loss : 0.02415920246951282 \n"
     ]
    },
    {
     "name": "stderr",
     "output_type": "stream",
     "text": [
      "100%|██████████| 24/24 [00:17<00:00,  1.40it/s]\n",
      "100%|██████████| 500/500 [00:01<00:00, 266.70it/s]\n"
     ]
    },
    {
     "name": "stdout",
     "output_type": "stream",
     "text": [
      "epoch : 159 ,train loss : 0.012682422995567322 ,valid loss : 0.025211136797443034 \n"
     ]
    },
    {
     "name": "stderr",
     "output_type": "stream",
     "text": [
      "100%|██████████| 24/24 [00:17<00:00,  1.40it/s]\n",
      "100%|██████████| 500/500 [00:01<00:00, 271.84it/s]\n"
     ]
    },
    {
     "name": "stdout",
     "output_type": "stream",
     "text": [
      "epoch : 160 ,train loss : 0.012604177774240574 ,valid loss : 0.025431005904451014 \n"
     ]
    },
    {
     "name": "stderr",
     "output_type": "stream",
     "text": [
      "100%|██████████| 24/24 [00:17<00:00,  1.41it/s]\n",
      "100%|██████████| 500/500 [00:01<00:00, 265.70it/s]\n"
     ]
    },
    {
     "name": "stdout",
     "output_type": "stream",
     "text": [
      "epoch : 161 ,train loss : 0.01233533094637096 ,valid loss : 0.025979157477617264 \n"
     ]
    },
    {
     "name": "stderr",
     "output_type": "stream",
     "text": [
      "100%|██████████| 24/24 [00:17<00:00,  1.41it/s]\n",
      "100%|██████████| 500/500 [00:01<00:00, 270.44it/s]\n"
     ]
    },
    {
     "name": "stdout",
     "output_type": "stream",
     "text": [
      "epoch : 162 ,train loss : 0.01270585631330808 ,valid loss : 0.02535969552770257 \n"
     ]
    },
    {
     "name": "stderr",
     "output_type": "stream",
     "text": [
      "100%|██████████| 24/24 [00:17<00:00,  1.41it/s]\n",
      "100%|██████████| 500/500 [00:01<00:00, 263.75it/s]\n"
     ]
    },
    {
     "name": "stdout",
     "output_type": "stream",
     "text": [
      "epoch : 163 ,train loss : 0.012837672877746323 ,valid loss : 0.02451897108927369 \n"
     ]
    },
    {
     "name": "stderr",
     "output_type": "stream",
     "text": [
      "100%|██████████| 24/24 [00:17<00:00,  1.39it/s]\n",
      "100%|██████████| 500/500 [00:01<00:00, 268.71it/s]\n"
     ]
    },
    {
     "name": "stdout",
     "output_type": "stream",
     "text": [
      "epoch : 164 ,train loss : 0.012353795968617002 ,valid loss : 0.024474793566390873 \n"
     ]
    },
    {
     "name": "stderr",
     "output_type": "stream",
     "text": [
      "100%|██████████| 24/24 [00:17<00:00,  1.41it/s]\n",
      "100%|██████████| 500/500 [00:01<00:00, 274.01it/s]\n"
     ]
    },
    {
     "name": "stdout",
     "output_type": "stream",
     "text": [
      "epoch : 165 ,train loss : 0.012278748171714446 ,valid loss : 0.024435720263049007 \n"
     ]
    },
    {
     "name": "stderr",
     "output_type": "stream",
     "text": [
      "100%|██████████| 24/24 [00:16<00:00,  1.42it/s]\n",
      "100%|██████████| 500/500 [00:01<00:00, 262.13it/s]\n"
     ]
    },
    {
     "name": "stdout",
     "output_type": "stream",
     "text": [
      "epoch : 166 ,train loss : 0.012457599863409996 ,valid loss : 0.02494927866384387 \n"
     ]
    },
    {
     "name": "stderr",
     "output_type": "stream",
     "text": [
      "100%|██████████| 24/24 [00:17<00:00,  1.40it/s]\n",
      "100%|██████████| 500/500 [00:01<00:00, 270.21it/s]\n"
     ]
    },
    {
     "name": "stdout",
     "output_type": "stream",
     "text": [
      "epoch : 167 ,train loss : 0.012394519872032106 ,valid loss : 0.024599635067395865 \n"
     ]
    },
    {
     "name": "stderr",
     "output_type": "stream",
     "text": [
      "100%|██████████| 24/24 [00:16<00:00,  1.41it/s]\n",
      "100%|██████████| 500/500 [00:01<00:00, 263.14it/s]\n"
     ]
    },
    {
     "name": "stdout",
     "output_type": "stream",
     "text": [
      "epoch : 168 ,train loss : 0.012349083321169019 ,valid loss : 0.024369170806370674 \n"
     ]
    },
    {
     "name": "stderr",
     "output_type": "stream",
     "text": [
      "100%|██████████| 24/24 [00:17<00:00,  1.41it/s]\n",
      "100%|██████████| 500/500 [00:01<00:00, 273.01it/s]\n"
     ]
    },
    {
     "name": "stdout",
     "output_type": "stream",
     "text": [
      "epoch : 169 ,train loss : 0.01223785663023591 ,valid loss : 0.024741064777597785 \n"
     ]
    },
    {
     "name": "stderr",
     "output_type": "stream",
     "text": [
      "100%|██████████| 24/24 [00:16<00:00,  1.41it/s]\n",
      "100%|██████████| 500/500 [00:01<00:00, 273.30it/s]\n"
     ]
    },
    {
     "name": "stdout",
     "output_type": "stream",
     "text": [
      "epoch : 170 ,train loss : 0.01228970727728059 ,valid loss : 0.024639594703912734 \n"
     ]
    },
    {
     "name": "stderr",
     "output_type": "stream",
     "text": [
      "100%|██████████| 24/24 [00:16<00:00,  1.42it/s]\n",
      "100%|██████████| 500/500 [00:01<00:00, 270.74it/s]\n"
     ]
    },
    {
     "name": "stdout",
     "output_type": "stream",
     "text": [
      "epoch : 171 ,train loss : 0.012522604782134295 ,valid loss : 0.024673487603664397 \n"
     ]
    },
    {
     "name": "stderr",
     "output_type": "stream",
     "text": [
      "100%|██████████| 24/24 [00:16<00:00,  1.42it/s]\n",
      "100%|██████████| 500/500 [00:01<00:00, 272.31it/s]\n"
     ]
    },
    {
     "name": "stdout",
     "output_type": "stream",
     "text": [
      "epoch : 172 ,train loss : 0.012522085880239805 ,valid loss : 0.02432369009591639 \n"
     ]
    },
    {
     "name": "stderr",
     "output_type": "stream",
     "text": [
      "100%|██████████| 24/24 [00:16<00:00,  1.41it/s]\n",
      "100%|██████████| 500/500 [00:01<00:00, 269.78it/s]\n"
     ]
    },
    {
     "name": "stdout",
     "output_type": "stream",
     "text": [
      "epoch : 173 ,train loss : 0.012223310846214494 ,valid loss : 0.02506061454489827 \n"
     ]
    },
    {
     "name": "stderr",
     "output_type": "stream",
     "text": [
      "100%|██████████| 24/24 [00:16<00:00,  1.41it/s]\n",
      "100%|██████████| 500/500 [00:01<00:00, 266.36it/s]\n"
     ]
    },
    {
     "name": "stdout",
     "output_type": "stream",
     "text": [
      "epoch : 174 ,train loss : 0.012141871188456813 ,valid loss : 0.024249473225325346 \n"
     ]
    },
    {
     "name": "stderr",
     "output_type": "stream",
     "text": [
      "100%|██████████| 24/24 [00:17<00:00,  1.41it/s]\n",
      "100%|██████████| 500/500 [00:01<00:00, 271.96it/s]\n"
     ]
    },
    {
     "name": "stdout",
     "output_type": "stream",
     "text": [
      "epoch : 175 ,train loss : 0.012676806072704494 ,valid loss : 0.025197622243314982 \n"
     ]
    },
    {
     "name": "stderr",
     "output_type": "stream",
     "text": [
      "100%|██████████| 24/24 [00:16<00:00,  1.41it/s]\n",
      "100%|██████████| 500/500 [00:01<00:00, 265.29it/s]\n"
     ]
    },
    {
     "name": "stdout",
     "output_type": "stream",
     "text": [
      "epoch : 176 ,train loss : 0.012647188268601894 ,valid loss : 0.02430622876994312 \n"
     ]
    },
    {
     "name": "stderr",
     "output_type": "stream",
     "text": [
      "100%|██████████| 24/24 [00:16<00:00,  1.42it/s]\n",
      "100%|██████████| 500/500 [00:01<00:00, 269.71it/s]\n"
     ]
    },
    {
     "name": "stdout",
     "output_type": "stream",
     "text": [
      "epoch : 177 ,train loss : 0.012041406046288708 ,valid loss : 0.024672233361750843 \n"
     ]
    },
    {
     "name": "stderr",
     "output_type": "stream",
     "text": [
      "100%|██████████| 24/24 [00:16<00:00,  1.41it/s]\n",
      "100%|██████████| 500/500 [00:01<00:00, 271.82it/s]\n"
     ]
    },
    {
     "name": "stdout",
     "output_type": "stream",
     "text": [
      "epoch : 178 ,train loss : 0.011894939661336442 ,valid loss : 0.02568618242070079 \n"
     ]
    },
    {
     "name": "stderr",
     "output_type": "stream",
     "text": [
      "100%|██████████| 24/24 [00:16<00:00,  1.42it/s]\n",
      "100%|██████████| 500/500 [00:01<00:00, 264.51it/s]\n"
     ]
    },
    {
     "name": "stdout",
     "output_type": "stream",
     "text": [
      "epoch : 179 ,train loss : 0.012567219169189533 ,valid loss : 0.02406202100403607 \n"
     ]
    },
    {
     "name": "stderr",
     "output_type": "stream",
     "text": [
      "100%|██████████| 24/24 [00:17<00:00,  1.40it/s]\n",
      "100%|██████████| 500/500 [00:01<00:00, 265.89it/s]\n"
     ]
    },
    {
     "name": "stdout",
     "output_type": "stream",
     "text": [
      "epoch : 180 ,train loss : 0.012470275862142444 ,valid loss : 0.02591653596609831 \n"
     ]
    },
    {
     "name": "stderr",
     "output_type": "stream",
     "text": [
      "100%|██████████| 24/24 [00:17<00:00,  1.41it/s]\n",
      "100%|██████████| 500/500 [00:01<00:00, 267.96it/s]\n"
     ]
    },
    {
     "name": "stdout",
     "output_type": "stream",
     "text": [
      "epoch : 181 ,train loss : 0.012241903343237936 ,valid loss : 0.024684610724449156 \n"
     ]
    },
    {
     "name": "stderr",
     "output_type": "stream",
     "text": [
      "100%|██████████| 24/24 [00:17<00:00,  1.40it/s]\n",
      "100%|██████████| 500/500 [00:01<00:00, 268.81it/s]\n"
     ]
    },
    {
     "name": "stdout",
     "output_type": "stream",
     "text": [
      "epoch : 182 ,train loss : 0.012420919723808765 ,valid loss : 0.0248732599709183 \n"
     ]
    },
    {
     "name": "stderr",
     "output_type": "stream",
     "text": [
      "100%|██████████| 24/24 [00:16<00:00,  1.41it/s]\n",
      "100%|██████████| 500/500 [00:01<00:00, 265.33it/s]\n"
     ]
    },
    {
     "name": "stdout",
     "output_type": "stream",
     "text": [
      "epoch : 183 ,train loss : 0.012151999942337474 ,valid loss : 0.0261943784262985 \n"
     ]
    },
    {
     "name": "stderr",
     "output_type": "stream",
     "text": [
      "100%|██████████| 24/24 [00:17<00:00,  1.41it/s]\n",
      "100%|██████████| 500/500 [00:01<00:00, 265.63it/s]\n"
     ]
    },
    {
     "name": "stdout",
     "output_type": "stream",
     "text": [
      "epoch : 184 ,train loss : 0.01236825556649516 ,valid loss : 0.0254532754663378 \n"
     ]
    },
    {
     "name": "stderr",
     "output_type": "stream",
     "text": [
      "100%|██████████| 24/24 [00:17<00:00,  1.40it/s]\n",
      "100%|██████████| 500/500 [00:01<00:00, 266.58it/s]\n"
     ]
    },
    {
     "name": "stdout",
     "output_type": "stream",
     "text": [
      "epoch : 185 ,train loss : 0.012071811516458789 ,valid loss : 0.0254352896399796 \n"
     ]
    },
    {
     "name": "stderr",
     "output_type": "stream",
     "text": [
      "100%|██████████| 24/24 [00:17<00:00,  1.41it/s]\n",
      "100%|██████████| 500/500 [00:01<00:00, 271.41it/s]\n"
     ]
    },
    {
     "name": "stdout",
     "output_type": "stream",
     "text": [
      "epoch : 186 ,train loss : 0.011971712267647186 ,valid loss : 0.02673225096054375 \n"
     ]
    },
    {
     "name": "stderr",
     "output_type": "stream",
     "text": [
      "100%|██████████| 24/24 [00:16<00:00,  1.42it/s]\n",
      "100%|██████████| 500/500 [00:01<00:00, 267.01it/s]\n"
     ]
    },
    {
     "name": "stdout",
     "output_type": "stream",
     "text": [
      "epoch : 187 ,train loss : 0.012507324533847472 ,valid loss : 0.02639176087640226 \n"
     ]
    },
    {
     "name": "stderr",
     "output_type": "stream",
     "text": [
      "100%|██████████| 24/24 [00:16<00:00,  1.42it/s]\n",
      "100%|██████████| 500/500 [00:01<00:00, 270.82it/s]\n"
     ]
    },
    {
     "name": "stdout",
     "output_type": "stream",
     "text": [
      "epoch : 188 ,train loss : 0.012697022718687853 ,valid loss : 0.026754034221172333 \n"
     ]
    },
    {
     "name": "stderr",
     "output_type": "stream",
     "text": [
      "100%|██████████| 24/24 [00:16<00:00,  1.42it/s]\n",
      "100%|██████████| 500/500 [00:01<00:00, 263.57it/s]\n"
     ]
    },
    {
     "name": "stdout",
     "output_type": "stream",
     "text": [
      "epoch : 189 ,train loss : 0.012462324695661664 ,valid loss : 0.025582486266270278 \n"
     ]
    },
    {
     "name": "stderr",
     "output_type": "stream",
     "text": [
      "100%|██████████| 24/24 [00:16<00:00,  1.41it/s]\n",
      "100%|██████████| 500/500 [00:01<00:00, 270.52it/s]\n"
     ]
    },
    {
     "name": "stdout",
     "output_type": "stream",
     "text": [
      "epoch : 190 ,train loss : 0.01185102954817315 ,valid loss : 0.02573498108237982 \n"
     ]
    },
    {
     "name": "stderr",
     "output_type": "stream",
     "text": [
      "100%|██████████| 24/24 [00:16<00:00,  1.41it/s]\n",
      "100%|██████████| 500/500 [00:01<00:00, 267.26it/s]\n"
     ]
    },
    {
     "name": "stdout",
     "output_type": "stream",
     "text": [
      "epoch : 191 ,train loss : 0.012388857430778444 ,valid loss : 0.02523500812985003 \n"
     ]
    },
    {
     "name": "stderr",
     "output_type": "stream",
     "text": [
      "100%|██████████| 24/24 [00:16<00:00,  1.42it/s]\n",
      "100%|██████████| 500/500 [00:01<00:00, 264.90it/s]\n"
     ]
    },
    {
     "name": "stdout",
     "output_type": "stream",
     "text": [
      "epoch : 192 ,train loss : 0.01258555066306144 ,valid loss : 0.02431689759157598 \n"
     ]
    },
    {
     "name": "stderr",
     "output_type": "stream",
     "text": [
      "100%|██████████| 24/24 [00:17<00:00,  1.41it/s]\n",
      "100%|██████████| 500/500 [00:01<00:00, 269.94it/s]\n"
     ]
    },
    {
     "name": "stdout",
     "output_type": "stream",
     "text": [
      "epoch : 193 ,train loss : 0.012301884630384544 ,valid loss : 0.025267038386315107 \n"
     ]
    },
    {
     "name": "stderr",
     "output_type": "stream",
     "text": [
      "100%|██████████| 24/24 [00:17<00:00,  1.41it/s]\n",
      "100%|██████████| 500/500 [00:01<00:00, 267.16it/s]\n"
     ]
    },
    {
     "name": "stdout",
     "output_type": "stream",
     "text": [
      "epoch : 194 ,train loss : 0.012182059387365976 ,valid loss : 0.0265177144985646 \n"
     ]
    },
    {
     "name": "stderr",
     "output_type": "stream",
     "text": [
      "100%|██████████| 24/24 [00:17<00:00,  1.41it/s]\n",
      "100%|██████████| 500/500 [00:01<00:00, 269.04it/s]\n"
     ]
    },
    {
     "name": "stdout",
     "output_type": "stream",
     "text": [
      "epoch : 195 ,train loss : 0.012734831660054624 ,valid loss : 0.025434152172878383 \n"
     ]
    },
    {
     "name": "stderr",
     "output_type": "stream",
     "text": [
      "100%|██████████| 24/24 [00:17<00:00,  1.39it/s]\n",
      "100%|██████████| 500/500 [00:01<00:00, 268.02it/s]\n"
     ]
    },
    {
     "name": "stdout",
     "output_type": "stream",
     "text": [
      "epoch : 196 ,train loss : 0.012274303667557737 ,valid loss : 0.025934955669566988 \n"
     ]
    },
    {
     "name": "stderr",
     "output_type": "stream",
     "text": [
      "100%|██████████| 24/24 [00:16<00:00,  1.42it/s]\n",
      "100%|██████████| 500/500 [00:01<00:00, 272.89it/s]\n"
     ]
    },
    {
     "name": "stdout",
     "output_type": "stream",
     "text": [
      "epoch : 197 ,train loss : 0.012198922185537716 ,valid loss : 0.02486593439988792 \n"
     ]
    },
    {
     "name": "stderr",
     "output_type": "stream",
     "text": [
      "100%|██████████| 24/24 [00:16<00:00,  1.42it/s]\n",
      "100%|██████████| 500/500 [00:01<00:00, 269.74it/s]\n"
     ]
    },
    {
     "name": "stdout",
     "output_type": "stream",
     "text": [
      "epoch : 198 ,train loss : 0.012090437929145992 ,valid loss : 0.02670131848193705 \n"
     ]
    },
    {
     "name": "stderr",
     "output_type": "stream",
     "text": [
      "100%|██████████| 24/24 [00:16<00:00,  1.42it/s]\n",
      "100%|██████████| 500/500 [00:01<00:00, 272.79it/s]\n"
     ]
    },
    {
     "name": "stdout",
     "output_type": "stream",
     "text": [
      "epoch : 199 ,train loss : 0.012125211263385912 ,valid loss : 0.026021249481476844 \n"
     ]
    },
    {
     "name": "stderr",
     "output_type": "stream",
     "text": [
      "100%|██████████| 24/24 [00:16<00:00,  1.41it/s]\n",
      "100%|██████████| 500/500 [00:01<00:00, 266.91it/s]\n"
     ]
    },
    {
     "name": "stdout",
     "output_type": "stream",
     "text": [
      "epoch : 200 ,train loss : 0.01256223771876345 ,valid loss : 0.0257433769647032 \n"
     ]
    },
    {
     "name": "stderr",
     "output_type": "stream",
     "text": [
      "100%|██████████| 24/24 [00:16<00:00,  1.41it/s]\n",
      "100%|██████████| 500/500 [00:01<00:00, 269.84it/s]\n"
     ]
    },
    {
     "name": "stdout",
     "output_type": "stream",
     "text": [
      "epoch : 201 ,train loss : 0.01209157716948539 ,valid loss : 0.026138080265372992 \n"
     ]
    },
    {
     "name": "stderr",
     "output_type": "stream",
     "text": [
      "100%|██████████| 24/24 [00:17<00:00,  1.40it/s]\n",
      "100%|██████████| 500/500 [00:01<00:00, 259.81it/s]\n"
     ]
    },
    {
     "name": "stdout",
     "output_type": "stream",
     "text": [
      "epoch : 202 ,train loss : 0.012207801026913026 ,valid loss : 0.024853229850530626 \n"
     ]
    },
    {
     "name": "stderr",
     "output_type": "stream",
     "text": [
      "100%|██████████| 24/24 [00:17<00:00,  1.41it/s]\n",
      "100%|██████████| 500/500 [00:01<00:00, 267.55it/s]\n"
     ]
    },
    {
     "name": "stdout",
     "output_type": "stream",
     "text": [
      "epoch : 203 ,train loss : 0.012420991629672548 ,valid loss : 0.02404014714807272 \n"
     ]
    },
    {
     "name": "stderr",
     "output_type": "stream",
     "text": [
      "100%|██████████| 24/24 [00:16<00:00,  1.41it/s]\n",
      "100%|██████████| 500/500 [00:01<00:00, 265.93it/s]\n"
     ]
    },
    {
     "name": "stdout",
     "output_type": "stream",
     "text": [
      "epoch : 204 ,train loss : 0.012209777371026576 ,valid loss : 0.024363406833261252 \n"
     ]
    },
    {
     "name": "stderr",
     "output_type": "stream",
     "text": [
      "100%|██████████| 24/24 [00:17<00:00,  1.40it/s]\n",
      "100%|██████████| 500/500 [00:01<00:00, 273.86it/s]\n"
     ]
    },
    {
     "name": "stdout",
     "output_type": "stream",
     "text": [
      "epoch : 205 ,train loss : 0.01209811377339065 ,valid loss : 0.02463422404974699 \n"
     ]
    },
    {
     "name": "stderr",
     "output_type": "stream",
     "text": [
      "100%|██████████| 24/24 [00:17<00:00,  1.40it/s]\n",
      "100%|██████████| 500/500 [00:01<00:00, 272.97it/s]\n"
     ]
    },
    {
     "name": "stdout",
     "output_type": "stream",
     "text": [
      "epoch : 206 ,train loss : 0.011895420340200266 ,valid loss : 0.02516480057872832 \n"
     ]
    },
    {
     "name": "stderr",
     "output_type": "stream",
     "text": [
      "100%|██████████| 24/24 [00:16<00:00,  1.42it/s]\n",
      "100%|██████████| 500/500 [00:01<00:00, 273.01it/s]\n"
     ]
    },
    {
     "name": "stdout",
     "output_type": "stream",
     "text": [
      "epoch : 207 ,train loss : 0.011967179481871426 ,valid loss : 0.024010739842429758 \n"
     ]
    },
    {
     "name": "stderr",
     "output_type": "stream",
     "text": [
      "100%|██████████| 24/24 [00:16<00:00,  1.42it/s]\n",
      "100%|██████████| 500/500 [00:01<00:00, 273.95it/s]\n"
     ]
    },
    {
     "name": "stdout",
     "output_type": "stream",
     "text": [
      "epoch : 208 ,train loss : 0.011249565131341418 ,valid loss : 0.024501226685941218 \n"
     ]
    },
    {
     "name": "stderr",
     "output_type": "stream",
     "text": [
      "100%|██████████| 24/24 [00:16<00:00,  1.42it/s]\n",
      "100%|██████████| 500/500 [00:01<00:00, 272.19it/s]\n"
     ]
    },
    {
     "name": "stdout",
     "output_type": "stream",
     "text": [
      "epoch : 209 ,train loss : 0.012202697844865421 ,valid loss : 0.02455710338614881 \n"
     ]
    },
    {
     "name": "stderr",
     "output_type": "stream",
     "text": [
      "100%|██████████| 24/24 [00:16<00:00,  1.42it/s]\n",
      "100%|██████████| 500/500 [00:01<00:00, 272.95it/s]\n"
     ]
    },
    {
     "name": "stdout",
     "output_type": "stream",
     "text": [
      "epoch : 210 ,train loss : 0.012420664929474393 ,valid loss : 0.02501881510671228 \n"
     ]
    },
    {
     "name": "stderr",
     "output_type": "stream",
     "text": [
      "100%|██████████| 24/24 [00:16<00:00,  1.42it/s]\n",
      "100%|██████████| 500/500 [00:01<00:00, 268.23it/s]\n"
     ]
    },
    {
     "name": "stdout",
     "output_type": "stream",
     "text": [
      "epoch : 211 ,train loss : 0.012279617677753171 ,valid loss : 0.025194336008280516 \n"
     ]
    },
    {
     "name": "stderr",
     "output_type": "stream",
     "text": [
      "100%|██████████| 24/24 [00:17<00:00,  1.41it/s]\n",
      "100%|██████████| 500/500 [00:01<00:00, 272.47it/s]\n"
     ]
    },
    {
     "name": "stdout",
     "output_type": "stream",
     "text": [
      "epoch : 212 ,train loss : 0.012032904584581653 ,valid loss : 0.025450294947251678 \n"
     ]
    },
    {
     "name": "stderr",
     "output_type": "stream",
     "text": [
      "100%|██████████| 24/24 [00:16<00:00,  1.42it/s]\n",
      "100%|██████████| 500/500 [00:01<00:00, 268.48it/s]\n"
     ]
    },
    {
     "name": "stdout",
     "output_type": "stream",
     "text": [
      "epoch : 213 ,train loss : 0.011829448592228195 ,valid loss : 0.025147175252437592 \n"
     ]
    },
    {
     "name": "stderr",
     "output_type": "stream",
     "text": [
      "100%|██████████| 24/24 [00:17<00:00,  1.41it/s]\n",
      "100%|██████████| 500/500 [00:01<00:00, 272.07it/s]\n"
     ]
    },
    {
     "name": "stdout",
     "output_type": "stream",
     "text": [
      "epoch : 214 ,train loss : 0.01201368736413618 ,valid loss : 0.02512344304472208 \n"
     ]
    },
    {
     "name": "stderr",
     "output_type": "stream",
     "text": [
      "100%|██████████| 24/24 [00:16<00:00,  1.42it/s]\n",
      "100%|██████████| 500/500 [00:01<00:00, 268.61it/s]\n"
     ]
    },
    {
     "name": "stdout",
     "output_type": "stream",
     "text": [
      "epoch : 215 ,train loss : 0.011879346100613475 ,valid loss : 0.024925490574911238 \n"
     ]
    },
    {
     "name": "stderr",
     "output_type": "stream",
     "text": [
      "100%|██████████| 24/24 [00:17<00:00,  1.40it/s]\n",
      "100%|██████████| 500/500 [00:01<00:00, 272.72it/s]\n"
     ]
    },
    {
     "name": "stdout",
     "output_type": "stream",
     "text": [
      "epoch : 216 ,train loss : 0.011932478984817863 ,valid loss : 0.02454953695088625 \n"
     ]
    },
    {
     "name": "stderr",
     "output_type": "stream",
     "text": [
      "100%|██████████| 24/24 [00:17<00:00,  1.40it/s]\n",
      "100%|██████████| 500/500 [00:01<00:00, 270.78it/s]\n"
     ]
    },
    {
     "name": "stdout",
     "output_type": "stream",
     "text": [
      "epoch : 217 ,train loss : 0.011705840627352396 ,valid loss : 0.02516727062128484 \n"
     ]
    },
    {
     "name": "stderr",
     "output_type": "stream",
     "text": [
      "100%|██████████| 24/24 [00:16<00:00,  1.42it/s]\n",
      "100%|██████████| 500/500 [00:01<00:00, 271.11it/s]\n"
     ]
    },
    {
     "name": "stdout",
     "output_type": "stream",
     "text": [
      "epoch : 218 ,train loss : 0.0114759131683968 ,valid loss : 0.025688264697790147 \n"
     ]
    },
    {
     "name": "stderr",
     "output_type": "stream",
     "text": [
      "100%|██████████| 24/24 [00:16<00:00,  1.42it/s]\n",
      "100%|██████████| 500/500 [00:01<00:00, 269.34it/s]\n"
     ]
    },
    {
     "name": "stdout",
     "output_type": "stream",
     "text": [
      "epoch : 219 ,train loss : 0.011598060295606652 ,valid loss : 0.025085684094578026 \n"
     ]
    },
    {
     "name": "stderr",
     "output_type": "stream",
     "text": [
      "100%|██████████| 24/24 [00:17<00:00,  1.41it/s]\n",
      "100%|██████████| 500/500 [00:01<00:00, 264.58it/s]\n"
     ]
    },
    {
     "name": "stdout",
     "output_type": "stream",
     "text": [
      "epoch : 220 ,train loss : 0.011686823641260466 ,valid loss : 0.02539356786943972 \n"
     ]
    },
    {
     "name": "stderr",
     "output_type": "stream",
     "text": [
      "100%|██████████| 24/24 [00:17<00:00,  1.41it/s]\n",
      "100%|██████████| 500/500 [00:01<00:00, 269.58it/s]\n"
     ]
    },
    {
     "name": "stdout",
     "output_type": "stream",
     "text": [
      "epoch : 221 ,train loss : 0.012042039927716056 ,valid loss : 0.02428849423490465 \n"
     ]
    },
    {
     "name": "stderr",
     "output_type": "stream",
     "text": [
      "100%|██████████| 24/24 [00:16<00:00,  1.42it/s]\n",
      "100%|██████████| 500/500 [00:01<00:00, 265.99it/s]\n"
     ]
    },
    {
     "name": "stdout",
     "output_type": "stream",
     "text": [
      "epoch : 222 ,train loss : 0.011622245268275341 ,valid loss : 0.025667375907301903 \n"
     ]
    },
    {
     "name": "stderr",
     "output_type": "stream",
     "text": [
      "100%|██████████| 24/24 [00:17<00:00,  1.41it/s]\n",
      "100%|██████████| 500/500 [00:01<00:00, 270.09it/s]\n"
     ]
    },
    {
     "name": "stdout",
     "output_type": "stream",
     "text": [
      "epoch : 223 ,train loss : 0.011381745183219513 ,valid loss : 0.026103716583922507 \n"
     ]
    },
    {
     "name": "stderr",
     "output_type": "stream",
     "text": [
      "100%|██████████| 24/24 [00:16<00:00,  1.41it/s]\n",
      "100%|██████████| 500/500 [00:01<00:00, 268.31it/s]\n"
     ]
    },
    {
     "name": "stdout",
     "output_type": "stream",
     "text": [
      "epoch : 224 ,train loss : 0.011206396312142411 ,valid loss : 0.0262775623742491 \n"
     ]
    },
    {
     "name": "stderr",
     "output_type": "stream",
     "text": [
      "100%|██████████| 24/24 [00:16<00:00,  1.41it/s]\n",
      "100%|██████████| 500/500 [00:01<00:00, 271.80it/s]\n"
     ]
    },
    {
     "name": "stdout",
     "output_type": "stream",
     "text": [
      "epoch : 225 ,train loss : 0.011239560786634684 ,valid loss : 0.026132591918110848 \n"
     ]
    },
    {
     "name": "stderr",
     "output_type": "stream",
     "text": [
      "100%|██████████| 24/24 [00:17<00:00,  1.41it/s]\n",
      "100%|██████████| 500/500 [00:01<00:00, 265.72it/s]\n"
     ]
    },
    {
     "name": "stdout",
     "output_type": "stream",
     "text": [
      "epoch : 226 ,train loss : 0.011209623150837919 ,valid loss : 0.025933254102244972 \n"
     ]
    },
    {
     "name": "stderr",
     "output_type": "stream",
     "text": [
      "100%|██████████| 24/24 [00:17<00:00,  1.40it/s]\n",
      "100%|██████████| 500/500 [00:01<00:00, 267.87it/s]\n"
     ]
    },
    {
     "name": "stdout",
     "output_type": "stream",
     "text": [
      "epoch : 227 ,train loss : 0.011676584913705787 ,valid loss : 0.025998351180925965 \n"
     ]
    },
    {
     "name": "stderr",
     "output_type": "stream",
     "text": [
      "100%|██████████| 24/24 [00:16<00:00,  1.41it/s]\n",
      "100%|██████████| 500/500 [00:01<00:00, 269.98it/s]\n"
     ]
    },
    {
     "name": "stdout",
     "output_type": "stream",
     "text": [
      "epoch : 228 ,train loss : 0.011280076772285005 ,valid loss : 0.0259590029604733 \n"
     ]
    },
    {
     "name": "stderr",
     "output_type": "stream",
     "text": [
      "100%|██████████| 24/24 [00:17<00:00,  1.41it/s]\n",
      "100%|██████████| 500/500 [00:01<00:00, 259.62it/s]\n"
     ]
    },
    {
     "name": "stdout",
     "output_type": "stream",
     "text": [
      "epoch : 229 ,train loss : 0.011331807919001827 ,valid loss : 0.025779963813722134 \n"
     ]
    },
    {
     "name": "stderr",
     "output_type": "stream",
     "text": [
      "100%|██████████| 24/24 [00:16<00:00,  1.41it/s]\n",
      "100%|██████████| 500/500 [00:01<00:00, 270.82it/s]\n"
     ]
    },
    {
     "name": "stdout",
     "output_type": "stream",
     "text": [
      "epoch : 230 ,train loss : 0.011321955282861987 ,valid loss : 0.026616240490227937 \n"
     ]
    },
    {
     "name": "stderr",
     "output_type": "stream",
     "text": [
      "100%|██████████| 24/24 [00:16<00:00,  1.42it/s]\n",
      "100%|██████████| 500/500 [00:01<00:00, 268.69it/s]\n"
     ]
    },
    {
     "name": "stdout",
     "output_type": "stream",
     "text": [
      "epoch : 231 ,train loss : 0.011650904431007802 ,valid loss : 0.02540631047822535 \n"
     ]
    },
    {
     "name": "stderr",
     "output_type": "stream",
     "text": [
      "100%|██████████| 24/24 [00:16<00:00,  1.41it/s]\n",
      "100%|██████████| 500/500 [00:01<00:00, 268.84it/s]\n"
     ]
    },
    {
     "name": "stdout",
     "output_type": "stream",
     "text": [
      "epoch : 232 ,train loss : 0.012120913714170456 ,valid loss : 0.02475190289877355 \n"
     ]
    },
    {
     "name": "stderr",
     "output_type": "stream",
     "text": [
      "100%|██████████| 24/24 [00:16<00:00,  1.42it/s]\n",
      "100%|██████████| 500/500 [00:01<00:00, 269.71it/s]\n"
     ]
    },
    {
     "name": "stdout",
     "output_type": "stream",
     "text": [
      "epoch : 233 ,train loss : 0.011791078606620431 ,valid loss : 0.02469807858020067 \n"
     ]
    },
    {
     "name": "stderr",
     "output_type": "stream",
     "text": [
      "100%|██████████| 24/24 [00:16<00:00,  1.42it/s]\n",
      "100%|██████████| 500/500 [00:01<00:00, 269.62it/s]\n"
     ]
    },
    {
     "name": "stdout",
     "output_type": "stream",
     "text": [
      "epoch : 234 ,train loss : 0.011507116840220988 ,valid loss : 0.025794181529432535 \n"
     ]
    },
    {
     "name": "stderr",
     "output_type": "stream",
     "text": [
      "100%|██████████| 24/24 [00:16<00:00,  1.42it/s]\n",
      "100%|██████████| 500/500 [00:01<00:00, 270.80it/s]\n"
     ]
    },
    {
     "name": "stdout",
     "output_type": "stream",
     "text": [
      "epoch : 235 ,train loss : 0.010975307571546486 ,valid loss : 0.025420358015224336 \n"
     ]
    },
    {
     "name": "stderr",
     "output_type": "stream",
     "text": [
      "100%|██████████| 24/24 [00:16<00:00,  1.42it/s]\n",
      "100%|██████████| 500/500 [00:01<00:00, 265.63it/s]\n"
     ]
    },
    {
     "name": "stdout",
     "output_type": "stream",
     "text": [
      "epoch : 236 ,train loss : 0.011183544197895875 ,valid loss : 0.025603710201568902 \n"
     ]
    },
    {
     "name": "stderr",
     "output_type": "stream",
     "text": [
      "100%|██████████| 24/24 [00:16<00:00,  1.41it/s]\n",
      "100%|██████████| 500/500 [00:01<00:00, 264.39it/s]\n"
     ]
    },
    {
     "name": "stdout",
     "output_type": "stream",
     "text": [
      "epoch : 237 ,train loss : 0.011578278926511606 ,valid loss : 0.025605883276090025 \n"
     ]
    },
    {
     "name": "stderr",
     "output_type": "stream",
     "text": [
      "100%|██████████| 24/24 [00:17<00:00,  1.40it/s]\n",
      "100%|██████████| 500/500 [00:01<00:00, 265.02it/s]\n"
     ]
    },
    {
     "name": "stdout",
     "output_type": "stream",
     "text": [
      "epoch : 238 ,train loss : 0.011769293380590776 ,valid loss : 0.025238350722938774 \n"
     ]
    },
    {
     "name": "stderr",
     "output_type": "stream",
     "text": [
      "100%|██████████| 24/24 [00:17<00:00,  1.41it/s]\n",
      "100%|██████████| 500/500 [00:01<00:00, 273.80it/s]\n"
     ]
    },
    {
     "name": "stdout",
     "output_type": "stream",
     "text": [
      "epoch : 239 ,train loss : 0.011297581562151512 ,valid loss : 0.024787152534350754 \n"
     ]
    },
    {
     "name": "stderr",
     "output_type": "stream",
     "text": [
      "100%|██████████| 24/24 [00:16<00:00,  1.42it/s]\n",
      "100%|██████████| 500/500 [00:01<00:00, 269.51it/s]\n"
     ]
    },
    {
     "name": "stdout",
     "output_type": "stream",
     "text": [
      "epoch : 240 ,train loss : 0.01137727260356769 ,valid loss : 0.025801289396360515 \n"
     ]
    },
    {
     "name": "stderr",
     "output_type": "stream",
     "text": [
      "100%|██████████| 24/24 [00:16<00:00,  1.41it/s]\n",
      "100%|██████████| 500/500 [00:01<00:00, 268.06it/s]\n"
     ]
    },
    {
     "name": "stdout",
     "output_type": "stream",
     "text": [
      "epoch : 241 ,train loss : 0.011255620377293477 ,valid loss : 0.025996496086940168 \n"
     ]
    },
    {
     "name": "stderr",
     "output_type": "stream",
     "text": [
      "100%|██████████| 24/24 [00:16<00:00,  1.42it/s]\n",
      "100%|██████████| 500/500 [00:01<00:00, 268.78it/s]\n"
     ]
    },
    {
     "name": "stdout",
     "output_type": "stream",
     "text": [
      "epoch : 242 ,train loss : 0.011542261461727321 ,valid loss : 0.0254241490047425 \n"
     ]
    },
    {
     "name": "stderr",
     "output_type": "stream",
     "text": [
      "100%|██████████| 24/24 [00:16<00:00,  1.41it/s]\n",
      "100%|██████████| 500/500 [00:01<00:00, 271.06it/s]\n"
     ]
    },
    {
     "name": "stdout",
     "output_type": "stream",
     "text": [
      "epoch : 243 ,train loss : 0.011189991802287599 ,valid loss : 0.02529608027264476 \n"
     ]
    },
    {
     "name": "stderr",
     "output_type": "stream",
     "text": [
      "100%|██████████| 24/24 [00:16<00:00,  1.42it/s]\n",
      "100%|██████████| 500/500 [00:01<00:00, 271.66it/s]\n"
     ]
    },
    {
     "name": "stdout",
     "output_type": "stream",
     "text": [
      "epoch : 244 ,train loss : 0.011060629544469217 ,valid loss : 0.024987496903166175 \n"
     ]
    },
    {
     "name": "stderr",
     "output_type": "stream",
     "text": [
      "100%|██████████| 24/24 [00:16<00:00,  1.41it/s]\n",
      "100%|██████████| 500/500 [00:01<00:00, 263.24it/s]\n"
     ]
    },
    {
     "name": "stdout",
     "output_type": "stream",
     "text": [
      "epoch : 245 ,train loss : 0.011062329867854714 ,valid loss : 0.024997832126915455 \n"
     ]
    },
    {
     "name": "stderr",
     "output_type": "stream",
     "text": [
      "100%|██████████| 24/24 [00:16<00:00,  1.42it/s]\n",
      "100%|██████████| 500/500 [00:01<00:00, 271.08it/s]\n"
     ]
    },
    {
     "name": "stdout",
     "output_type": "stream",
     "text": [
      "epoch : 246 ,train loss : 0.011199248333772024 ,valid loss : 0.025281109880656003 \n"
     ]
    },
    {
     "name": "stderr",
     "output_type": "stream",
     "text": [
      "100%|██████████| 24/24 [00:16<00:00,  1.42it/s]\n",
      "100%|██████████| 500/500 [00:01<00:00, 268.64it/s]\n"
     ]
    },
    {
     "name": "stdout",
     "output_type": "stream",
     "text": [
      "epoch : 247 ,train loss : 0.010960970656014979 ,valid loss : 0.024977285034954548 \n"
     ]
    },
    {
     "name": "stderr",
     "output_type": "stream",
     "text": [
      "100%|██████████| 24/24 [00:17<00:00,  1.40it/s]\n",
      "100%|██████████| 500/500 [00:01<00:00, 268.48it/s]\n"
     ]
    },
    {
     "name": "stdout",
     "output_type": "stream",
     "text": [
      "epoch : 248 ,train loss : 0.011419562118438384 ,valid loss : 0.025155077545903622 \n"
     ]
    },
    {
     "name": "stderr",
     "output_type": "stream",
     "text": [
      "100%|██████████| 24/24 [00:16<00:00,  1.41it/s]\n",
      "100%|██████████| 500/500 [00:01<00:00, 269.57it/s]\n"
     ]
    },
    {
     "name": "stdout",
     "output_type": "stream",
     "text": [
      "epoch : 249 ,train loss : 0.011007911370446285 ,valid loss : 0.025085165521129965 \n"
     ]
    },
    {
     "name": "stderr",
     "output_type": "stream",
     "text": [
      "100%|██████████| 24/24 [00:16<00:00,  1.41it/s]\n",
      "100%|██████████| 500/500 [00:01<00:00, 270.40it/s]\n"
     ]
    },
    {
     "name": "stdout",
     "output_type": "stream",
     "text": [
      "epoch : 250 ,train loss : 0.011165622738189995 ,valid loss : 0.025153691680170596 \n"
     ]
    },
    {
     "name": "stderr",
     "output_type": "stream",
     "text": [
      "100%|██████████| 24/24 [00:17<00:00,  1.41it/s]\n",
      "100%|██████████| 500/500 [00:01<00:00, 268.35it/s]\n"
     ]
    },
    {
     "name": "stdout",
     "output_type": "stream",
     "text": [
      "epoch : 251 ,train loss : 0.01139215771884968 ,valid loss : 0.025115173104219138 \n"
     ]
    },
    {
     "name": "stderr",
     "output_type": "stream",
     "text": [
      "100%|██████████| 24/24 [00:17<00:00,  1.41it/s]\n",
      "100%|██████████| 500/500 [00:01<00:00, 270.29it/s]\n"
     ]
    },
    {
     "name": "stdout",
     "output_type": "stream",
     "text": [
      "epoch : 252 ,train loss : 0.011013316766669353 ,valid loss : 0.025459142768755556 \n"
     ]
    },
    {
     "name": "stderr",
     "output_type": "stream",
     "text": [
      "100%|██████████| 24/24 [00:17<00:00,  1.41it/s]\n",
      "100%|██████████| 500/500 [00:01<00:00, 265.69it/s]\n"
     ]
    },
    {
     "name": "stdout",
     "output_type": "stream",
     "text": [
      "epoch : 253 ,train loss : 0.011636261983464161 ,valid loss : 0.025078564492985605 \n"
     ]
    },
    {
     "name": "stderr",
     "output_type": "stream",
     "text": [
      "100%|██████████| 24/24 [00:17<00:00,  1.41it/s]\n",
      "100%|██████████| 500/500 [00:01<00:00, 268.95it/s]\n"
     ]
    },
    {
     "name": "stdout",
     "output_type": "stream",
     "text": [
      "epoch : 254 ,train loss : 0.01121021582124134 ,valid loss : 0.02534182982891798 \n"
     ]
    },
    {
     "name": "stderr",
     "output_type": "stream",
     "text": [
      "100%|██████████| 24/24 [00:16<00:00,  1.41it/s]\n",
      "100%|██████████| 500/500 [00:01<00:00, 267.70it/s]\n"
     ]
    },
    {
     "name": "stdout",
     "output_type": "stream",
     "text": [
      "epoch : 255 ,train loss : 0.010939407628029585 ,valid loss : 0.02603654465638101 \n"
     ]
    },
    {
     "name": "stderr",
     "output_type": "stream",
     "text": [
      "100%|██████████| 24/24 [00:17<00:00,  1.41it/s]\n",
      "100%|██████████| 500/500 [00:01<00:00, 268.65it/s]\n"
     ]
    },
    {
     "name": "stdout",
     "output_type": "stream",
     "text": [
      "epoch : 256 ,train loss : 0.01077038071040685 ,valid loss : 0.025440677505917848 \n"
     ]
    },
    {
     "name": "stderr",
     "output_type": "stream",
     "text": [
      "100%|██████████| 24/24 [00:16<00:00,  1.41it/s]\n",
      "100%|██████████| 500/500 [00:01<00:00, 264.57it/s]\n"
     ]
    },
    {
     "name": "stdout",
     "output_type": "stream",
     "text": [
      "epoch : 257 ,train loss : 0.01113033457659185 ,valid loss : 0.02556961891055107 \n"
     ]
    },
    {
     "name": "stderr",
     "output_type": "stream",
     "text": [
      "100%|██████████| 24/24 [00:16<00:00,  1.42it/s]\n",
      "100%|██████████| 500/500 [00:01<00:00, 269.09it/s]\n"
     ]
    },
    {
     "name": "stdout",
     "output_type": "stream",
     "text": [
      "epoch : 258 ,train loss : 0.01097126204210023 ,valid loss : 0.025864195505157114 \n"
     ]
    },
    {
     "name": "stderr",
     "output_type": "stream",
     "text": [
      "100%|██████████| 24/24 [00:16<00:00,  1.42it/s]\n",
      "100%|██████████| 500/500 [00:01<00:00, 270.45it/s]\n"
     ]
    },
    {
     "name": "stdout",
     "output_type": "stream",
     "text": [
      "epoch : 259 ,train loss : 0.01083893550094217 ,valid loss : 0.02625748744793236 \n"
     ]
    },
    {
     "name": "stderr",
     "output_type": "stream",
     "text": [
      "100%|██████████| 24/24 [00:16<00:00,  1.41it/s]\n",
      "100%|██████████| 500/500 [00:01<00:00, 271.57it/s]\n"
     ]
    },
    {
     "name": "stdout",
     "output_type": "stream",
     "text": [
      "epoch : 260 ,train loss : 0.011235681013204157 ,valid loss : 0.024700543630868196 \n"
     ]
    },
    {
     "name": "stderr",
     "output_type": "stream",
     "text": [
      "100%|██████████| 24/24 [00:16<00:00,  1.42it/s]\n",
      "100%|██████████| 500/500 [00:01<00:00, 273.51it/s]\n"
     ]
    },
    {
     "name": "stdout",
     "output_type": "stream",
     "text": [
      "epoch : 261 ,train loss : 0.011473402148112655 ,valid loss : 0.025520015049725772 \n"
     ]
    },
    {
     "name": "stderr",
     "output_type": "stream",
     "text": [
      "100%|██████████| 24/24 [00:16<00:00,  1.41it/s]\n",
      "100%|██████████| 500/500 [00:01<00:00, 270.43it/s]\n"
     ]
    },
    {
     "name": "stdout",
     "output_type": "stream",
     "text": [
      "epoch : 262 ,train loss : 0.010863946032865593 ,valid loss : 0.026120763743296267 \n"
     ]
    },
    {
     "name": "stderr",
     "output_type": "stream",
     "text": [
      "100%|██████████| 24/24 [00:16<00:00,  1.42it/s]\n",
      "100%|██████████| 500/500 [00:01<00:00, 270.77it/s]\n"
     ]
    },
    {
     "name": "stdout",
     "output_type": "stream",
     "text": [
      "epoch : 263 ,train loss : 0.011022132937796414 ,valid loss : 0.025261107489466667 \n"
     ]
    },
    {
     "name": "stderr",
     "output_type": "stream",
     "text": [
      "100%|██████████| 24/24 [00:16<00:00,  1.41it/s]\n",
      "100%|██████████| 500/500 [00:01<00:00, 272.14it/s]\n"
     ]
    },
    {
     "name": "stdout",
     "output_type": "stream",
     "text": [
      "epoch : 264 ,train loss : 0.0109892253143092 ,valid loss : 0.025849799813702702 \n"
     ]
    },
    {
     "name": "stderr",
     "output_type": "stream",
     "text": [
      "100%|██████████| 24/24 [00:16<00:00,  1.42it/s]\n",
      "100%|██████████| 500/500 [00:01<00:00, 256.49it/s]\n"
     ]
    },
    {
     "name": "stdout",
     "output_type": "stream",
     "text": [
      "epoch : 265 ,train loss : 0.01096904813311994 ,valid loss : 0.026868308996781706 \n"
     ]
    },
    {
     "name": "stderr",
     "output_type": "stream",
     "text": [
      "100%|██████████| 24/24 [00:16<00:00,  1.42it/s]\n",
      "100%|██████████| 500/500 [00:01<00:00, 272.15it/s]\n"
     ]
    },
    {
     "name": "stdout",
     "output_type": "stream",
     "text": [
      "epoch : 266 ,train loss : 0.010983175326449176 ,valid loss : 0.025920485481619834 \n"
     ]
    },
    {
     "name": "stderr",
     "output_type": "stream",
     "text": [
      "100%|██████████| 24/24 [00:16<00:00,  1.42it/s]\n",
      "100%|██████████| 500/500 [00:01<00:00, 270.48it/s]\n"
     ]
    },
    {
     "name": "stdout",
     "output_type": "stream",
     "text": [
      "epoch : 267 ,train loss : 0.01120550453197211 ,valid loss : 0.02609693531319499 \n"
     ]
    },
    {
     "name": "stderr",
     "output_type": "stream",
     "text": [
      "100%|██████████| 24/24 [00:16<00:00,  1.41it/s]\n",
      "100%|██████████| 500/500 [00:01<00:00, 265.72it/s]\n"
     ]
    },
    {
     "name": "stdout",
     "output_type": "stream",
     "text": [
      "epoch : 268 ,train loss : 0.011590740022559961 ,valid loss : 0.02574879794754088 \n"
     ]
    },
    {
     "name": "stderr",
     "output_type": "stream",
     "text": [
      "100%|██████████| 24/24 [00:16<00:00,  1.42it/s]\n",
      "100%|██████████| 500/500 [00:01<00:00, 273.19it/s]\n"
     ]
    },
    {
     "name": "stdout",
     "output_type": "stream",
     "text": [
      "epoch : 269 ,train loss : 0.011065721919294447 ,valid loss : 0.025987936932593585 \n"
     ]
    },
    {
     "name": "stderr",
     "output_type": "stream",
     "text": [
      "100%|██████████| 24/24 [00:16<00:00,  1.42it/s]\n",
      "100%|██████████| 500/500 [00:01<00:00, 272.62it/s]\n"
     ]
    },
    {
     "name": "stdout",
     "output_type": "stream",
     "text": [
      "epoch : 270 ,train loss : 0.011073937096322576 ,valid loss : 0.025634121399372815 \n"
     ]
    },
    {
     "name": "stderr",
     "output_type": "stream",
     "text": [
      "100%|██████████| 24/24 [00:16<00:00,  1.42it/s]\n",
      "100%|██████████| 500/500 [00:01<00:00, 272.46it/s]\n"
     ]
    },
    {
     "name": "stdout",
     "output_type": "stream",
     "text": [
      "epoch : 271 ,train loss : 0.010838882725996276 ,valid loss : 0.025883316470310093 \n"
     ]
    },
    {
     "name": "stderr",
     "output_type": "stream",
     "text": [
      "100%|██████████| 24/24 [00:16<00:00,  1.42it/s]\n",
      "100%|██████████| 500/500 [00:01<00:00, 273.03it/s]\n"
     ]
    },
    {
     "name": "stdout",
     "output_type": "stream",
     "text": [
      "epoch : 272 ,train loss : 0.010955901312020918 ,valid loss : 0.024882027212530376 \n"
     ]
    },
    {
     "name": "stderr",
     "output_type": "stream",
     "text": [
      "100%|██████████| 24/24 [00:16<00:00,  1.42it/s]\n",
      "100%|██████████| 500/500 [00:01<00:00, 269.75it/s]\n"
     ]
    },
    {
     "name": "stdout",
     "output_type": "stream",
     "text": [
      "epoch : 273 ,train loss : 0.010496013603794077 ,valid loss : 0.02640828931890428 \n"
     ]
    },
    {
     "name": "stderr",
     "output_type": "stream",
     "text": [
      "100%|██████████| 24/24 [00:16<00:00,  1.41it/s]\n",
      "100%|██████████| 500/500 [00:01<00:00, 272.21it/s]\n"
     ]
    },
    {
     "name": "stdout",
     "output_type": "stream",
     "text": [
      "epoch : 274 ,train loss : 0.01077818408763657 ,valid loss : 0.02665856696292758 \n"
     ]
    },
    {
     "name": "stderr",
     "output_type": "stream",
     "text": [
      "100%|██████████| 24/24 [00:16<00:00,  1.42it/s]\n",
      "100%|██████████| 500/500 [00:01<00:00, 272.42it/s]\n"
     ]
    },
    {
     "name": "stdout",
     "output_type": "stream",
     "text": [
      "epoch : 275 ,train loss : 0.01061978672320644 ,valid loss : 0.025547047383151947 \n"
     ]
    },
    {
     "name": "stderr",
     "output_type": "stream",
     "text": [
      "100%|██████████| 24/24 [00:16<00:00,  1.41it/s]\n",
      "100%|██████████| 500/500 [00:01<00:00, 273.25it/s]\n"
     ]
    },
    {
     "name": "stdout",
     "output_type": "stream",
     "text": [
      "epoch : 276 ,train loss : 0.01102069792492936 ,valid loss : 0.02609255969710648 \n"
     ]
    },
    {
     "name": "stderr",
     "output_type": "stream",
     "text": [
      "100%|██████████| 24/24 [00:17<00:00,  1.41it/s]\n",
      "100%|██████████| 500/500 [00:01<00:00, 269.25it/s]\n"
     ]
    },
    {
     "name": "stdout",
     "output_type": "stream",
     "text": [
      "epoch : 277 ,train loss : 0.010834638378582895 ,valid loss : 0.025616327569819988 \n"
     ]
    },
    {
     "name": "stderr",
     "output_type": "stream",
     "text": [
      "100%|██████████| 24/24 [00:17<00:00,  1.41it/s]\n",
      "100%|██████████| 500/500 [00:01<00:00, 263.98it/s]\n"
     ]
    },
    {
     "name": "stdout",
     "output_type": "stream",
     "text": [
      "epoch : 278 ,train loss : 0.010412447853013873 ,valid loss : 0.0249359723366797 \n"
     ]
    },
    {
     "name": "stderr",
     "output_type": "stream",
     "text": [
      "100%|██████████| 24/24 [00:17<00:00,  1.40it/s]\n",
      "100%|██████████| 500/500 [00:01<00:00, 267.27it/s]\n"
     ]
    },
    {
     "name": "stdout",
     "output_type": "stream",
     "text": [
      "epoch : 279 ,train loss : 0.010860373033210635 ,valid loss : 0.02589734696596861 \n"
     ]
    },
    {
     "name": "stderr",
     "output_type": "stream",
     "text": [
      "100%|██████████| 24/24 [00:17<00:00,  1.41it/s]\n",
      "100%|██████████| 500/500 [00:01<00:00, 269.22it/s]\n"
     ]
    },
    {
     "name": "stdout",
     "output_type": "stream",
     "text": [
      "epoch : 280 ,train loss : 0.010566617245785892 ,valid loss : 0.024408644888550043 \n"
     ]
    },
    {
     "name": "stderr",
     "output_type": "stream",
     "text": [
      "100%|██████████| 24/24 [00:17<00:00,  1.41it/s]\n",
      "100%|██████████| 500/500 [00:01<00:00, 261.73it/s]\n"
     ]
    },
    {
     "name": "stdout",
     "output_type": "stream",
     "text": [
      "epoch : 281 ,train loss : 0.010705841394762198 ,valid loss : 0.02495330139901489 \n"
     ]
    },
    {
     "name": "stderr",
     "output_type": "stream",
     "text": [
      "100%|██████████| 24/24 [00:17<00:00,  1.40it/s]\n",
      "100%|██████████| 500/500 [00:01<00:00, 266.92it/s]\n"
     ]
    },
    {
     "name": "stdout",
     "output_type": "stream",
     "text": [
      "epoch : 282 ,train loss : 0.010377688837858537 ,valid loss : 0.02545793406944722 \n"
     ]
    },
    {
     "name": "stderr",
     "output_type": "stream",
     "text": [
      "100%|██████████| 24/24 [00:17<00:00,  1.39it/s]\n",
      "100%|██████████| 500/500 [00:01<00:00, 263.24it/s]\n"
     ]
    },
    {
     "name": "stdout",
     "output_type": "stream",
     "text": [
      "epoch : 283 ,train loss : 0.010450329359931251 ,valid loss : 0.025931401973590253 \n"
     ]
    },
    {
     "name": "stderr",
     "output_type": "stream",
     "text": [
      "100%|██████████| 24/24 [00:17<00:00,  1.41it/s]\n",
      "100%|██████████| 500/500 [00:01<00:00, 272.23it/s]\n"
     ]
    },
    {
     "name": "stdout",
     "output_type": "stream",
     "text": [
      "epoch : 284 ,train loss : 0.01085272392568489 ,valid loss : 0.02475392962805927 \n"
     ]
    },
    {
     "name": "stderr",
     "output_type": "stream",
     "text": [
      "100%|██████████| 24/24 [00:16<00:00,  1.42it/s]\n",
      "100%|██████████| 500/500 [00:01<00:00, 275.76it/s]\n"
     ]
    },
    {
     "name": "stdout",
     "output_type": "stream",
     "text": [
      "epoch : 285 ,train loss : 0.01100395037792623 ,valid loss : 0.025245270892046392 \n"
     ]
    },
    {
     "name": "stderr",
     "output_type": "stream",
     "text": [
      "100%|██████████| 24/24 [00:16<00:00,  1.42it/s]\n",
      "100%|██████████| 500/500 [00:01<00:00, 276.05it/s]\n"
     ]
    },
    {
     "name": "stdout",
     "output_type": "stream",
     "text": [
      "epoch : 286 ,train loss : 0.010381371966407945 ,valid loss : 0.02649671971052885 \n"
     ]
    },
    {
     "name": "stderr",
     "output_type": "stream",
     "text": [
      "100%|██████████| 24/24 [00:16<00:00,  1.43it/s]\n",
      "100%|██████████| 500/500 [00:01<00:00, 275.19it/s]\n"
     ]
    },
    {
     "name": "stdout",
     "output_type": "stream",
     "text": [
      "epoch : 287 ,train loss : 0.010913571265215674 ,valid loss : 0.026108780797570945 \n"
     ]
    },
    {
     "name": "stderr",
     "output_type": "stream",
     "text": [
      "100%|██████████| 24/24 [00:16<00:00,  1.42it/s]\n",
      "100%|██████████| 500/500 [00:01<00:00, 275.80it/s]\n"
     ]
    },
    {
     "name": "stdout",
     "output_type": "stream",
     "text": [
      "epoch : 288 ,train loss : 0.010653908946551383 ,valid loss : 0.02516169228963554 \n"
     ]
    },
    {
     "name": "stderr",
     "output_type": "stream",
     "text": [
      "100%|██████████| 24/24 [00:16<00:00,  1.42it/s]\n",
      "100%|██████████| 500/500 [00:01<00:00, 275.94it/s]\n"
     ]
    },
    {
     "name": "stdout",
     "output_type": "stream",
     "text": [
      "epoch : 289 ,train loss : 0.010408347977014879 ,valid loss : 0.025594892501831053 \n"
     ]
    },
    {
     "name": "stderr",
     "output_type": "stream",
     "text": [
      "100%|██████████| 24/24 [00:16<00:00,  1.42it/s]\n",
      "100%|██████████| 500/500 [00:01<00:00, 275.89it/s]\n"
     ]
    },
    {
     "name": "stdout",
     "output_type": "stream",
     "text": [
      "epoch : 290 ,train loss : 0.010716542873221139 ,valid loss : 0.027619457326829435 \n"
     ]
    },
    {
     "name": "stderr",
     "output_type": "stream",
     "text": [
      "100%|██████████| 24/24 [00:16<00:00,  1.42it/s]\n",
      "100%|██████████| 500/500 [00:01<00:00, 275.12it/s]\n"
     ]
    },
    {
     "name": "stdout",
     "output_type": "stream",
     "text": [
      "epoch : 291 ,train loss : 0.010468706022948027 ,valid loss : 0.026699748944491147 \n"
     ]
    },
    {
     "name": "stderr",
     "output_type": "stream",
     "text": [
      "100%|██████████| 24/24 [00:16<00:00,  1.42it/s]\n",
      "100%|██████████| 500/500 [00:01<00:00, 275.61it/s]\n"
     ]
    },
    {
     "name": "stdout",
     "output_type": "stream",
     "text": [
      "epoch : 292 ,train loss : 0.010718795800736794 ,valid loss : 0.026507624298334122 \n"
     ]
    },
    {
     "name": "stderr",
     "output_type": "stream",
     "text": [
      "100%|██████████| 24/24 [00:16<00:00,  1.42it/s]\n",
      "100%|██████████| 500/500 [00:01<00:00, 276.00it/s]\n"
     ]
    },
    {
     "name": "stdout",
     "output_type": "stream",
     "text": [
      "epoch : 293 ,train loss : 0.010645695341130098 ,valid loss : 0.025657654639333487 \n"
     ]
    },
    {
     "name": "stderr",
     "output_type": "stream",
     "text": [
      "100%|██████████| 24/24 [00:16<00:00,  1.42it/s]\n",
      "100%|██████████| 500/500 [00:01<00:00, 266.76it/s]\n"
     ]
    },
    {
     "name": "stdout",
     "output_type": "stream",
     "text": [
      "epoch : 294 ,train loss : 0.010434187832288444 ,valid loss : 0.02543228555470705 \n"
     ]
    },
    {
     "name": "stderr",
     "output_type": "stream",
     "text": [
      "100%|██████████| 24/24 [00:16<00:00,  1.41it/s]\n",
      "100%|██████████| 500/500 [00:01<00:00, 272.13it/s]\n"
     ]
    },
    {
     "name": "stdout",
     "output_type": "stream",
     "text": [
      "epoch : 295 ,train loss : 0.010412242030724883 ,valid loss : 0.02596110951527953 \n"
     ]
    },
    {
     "name": "stderr",
     "output_type": "stream",
     "text": [
      "100%|██████████| 24/24 [00:16<00:00,  1.41it/s]\n",
      "100%|██████████| 500/500 [00:01<00:00, 262.19it/s]\n"
     ]
    },
    {
     "name": "stdout",
     "output_type": "stream",
     "text": [
      "epoch : 296 ,train loss : 0.010378353879787028 ,valid loss : 0.02586284467205405 \n"
     ]
    },
    {
     "name": "stderr",
     "output_type": "stream",
     "text": [
      "100%|██████████| 24/24 [00:16<00:00,  1.42it/s]\n",
      "100%|██████████| 500/500 [00:01<00:00, 264.84it/s]\n"
     ]
    },
    {
     "name": "stdout",
     "output_type": "stream",
     "text": [
      "epoch : 297 ,train loss : 0.010811527531283597 ,valid loss : 0.026357280919328333 \n"
     ]
    },
    {
     "name": "stderr",
     "output_type": "stream",
     "text": [
      "100%|██████████| 24/24 [00:16<00:00,  1.42it/s]\n",
      "100%|██████████| 500/500 [00:01<00:00, 271.70it/s]\n"
     ]
    },
    {
     "name": "stdout",
     "output_type": "stream",
     "text": [
      "epoch : 298 ,train loss : 0.010643774333099524 ,valid loss : 0.02533451545983553 \n"
     ]
    },
    {
     "name": "stderr",
     "output_type": "stream",
     "text": [
      "100%|██████████| 24/24 [00:16<00:00,  1.42it/s]\n",
      "100%|██████████| 500/500 [00:01<00:00, 276.47it/s]"
     ]
    },
    {
     "name": "stdout",
     "output_type": "stream",
     "text": [
      "epoch : 299 ,train loss : 0.010786778487575551 ,valid loss : 0.026542197043076157 \n"
     ]
    },
    {
     "name": "stderr",
     "output_type": "stream",
     "text": [
      "\n"
     ]
    }
   ],
   "source": [
    "for i in range(epochs):\n",
    "    \n",
    "    trainloss = 0\n",
    "    valloss = 0\n",
    "    \n",
    "    for img,label in tqdm(train_loader):\n",
    "        '''\n",
    "            Traning the Model.\n",
    "        '''\n",
    "        optimizer.zero_grad()\n",
    "        img = img.to(device)\n",
    "        label = label.to(device)\n",
    "        output = model(img)\n",
    "        loss = lossfunc(output,label)\n",
    "        loss.backward()\n",
    "        optimizer.step()\n",
    "        trainloss+=loss.item()\n",
    "    \n",
    "    # if(i%5==0):\n",
    "    #     show(img,output,label)\n",
    "\n",
    "    train_loss.append(trainloss/len(train_loader))    \n",
    "  \n",
    "    for img,label in tqdm(vaild_loader):\n",
    "        '''\n",
    "            Validation of Model.\n",
    "        '''\n",
    "        img = img.to(device)\n",
    "        label = label.to(device)\n",
    "        output = model(img)\n",
    "        loss = lossfunc(output,label)\n",
    "        valloss+=loss.item()\n",
    "        \n",
    "    val_loss.append(valloss/len(vaild_loader))  \n",
    "    \n",
    "    print(\"epoch : {} ,train loss : {} ,valid loss : {} \".format(i,train_loss[-1],val_loss[-1]))"
   ]
  },
  {
   "cell_type": "code",
   "execution_count": 48,
   "metadata": {},
   "outputs": [],
   "source": [
    "from torchsummary import summary"
   ]
  },
  {
   "cell_type": "code",
   "execution_count": 49,
   "metadata": {},
   "outputs": [
    {
     "name": "stdout",
     "output_type": "stream",
     "text": [
      "Input image size: torch.Size([3, 256, 256])\n"
     ]
    }
   ],
   "source": [
    "# Get a sample image and label from the dataset\n",
    "image, label = traindata[0]\n",
    "\n",
    "# Print the size of the image tensor\n",
    "print(\"Input image size:\", image.size())"
   ]
  },
  {
   "cell_type": "code",
   "execution_count": 50,
   "metadata": {},
   "outputs": [
    {
     "name": "stdout",
     "output_type": "stream",
     "text": [
      "----------------------------------------------------------------\n",
      "        Layer (type)               Output Shape         Param #\n",
      "================================================================\n",
      "            Conv2d-1         [-1, 32, 256, 256]             896\n",
      "       BatchNorm2d-2         [-1, 32, 256, 256]              64\n",
      "              ReLU-3         [-1, 32, 256, 256]               0\n",
      "            Conv2d-4         [-1, 32, 254, 254]           9,248\n",
      "              ReLU-5         [-1, 32, 254, 254]               0\n",
      "         Convblock-6         [-1, 32, 254, 254]               0\n",
      "            Conv2d-7         [-1, 64, 127, 127]          18,496\n",
      "       BatchNorm2d-8         [-1, 64, 127, 127]             128\n",
      "              ReLU-9         [-1, 64, 127, 127]               0\n",
      "           Conv2d-10         [-1, 64, 125, 125]          36,928\n",
      "             ReLU-11         [-1, 64, 125, 125]               0\n",
      "        Convblock-12         [-1, 64, 125, 125]               0\n",
      "           Conv2d-13          [-1, 128, 62, 62]          73,856\n",
      "      BatchNorm2d-14          [-1, 128, 62, 62]             256\n",
      "             ReLU-15          [-1, 128, 62, 62]               0\n",
      "           Conv2d-16          [-1, 128, 60, 60]         147,584\n",
      "             ReLU-17          [-1, 128, 60, 60]               0\n",
      "        Convblock-18          [-1, 128, 60, 60]               0\n",
      "           Conv2d-19          [-1, 256, 30, 30]         295,168\n",
      "      BatchNorm2d-20          [-1, 256, 30, 30]             512\n",
      "             ReLU-21          [-1, 256, 30, 30]               0\n",
      "           Conv2d-22          [-1, 256, 28, 28]         590,080\n",
      "             ReLU-23          [-1, 256, 28, 28]               0\n",
      "        Convblock-24          [-1, 256, 28, 28]               0\n",
      "           Conv2d-25          [-1, 512, 12, 12]       1,180,160\n",
      "  ConvTranspose2d-26          [-1, 256, 26, 26]       1,179,904\n",
      "           Conv2d-27          [-1, 256, 26, 26]       1,179,904\n",
      "      BatchNorm2d-28          [-1, 256, 26, 26]             512\n",
      "             ReLU-29          [-1, 256, 26, 26]               0\n",
      "           Conv2d-30          [-1, 256, 24, 24]         590,080\n",
      "             ReLU-31          [-1, 256, 24, 24]               0\n",
      "        Convblock-32          [-1, 256, 24, 24]               0\n",
      "  ConvTranspose2d-33          [-1, 128, 50, 50]         295,040\n",
      "           Conv2d-34          [-1, 128, 50, 50]         295,040\n",
      "      BatchNorm2d-35          [-1, 128, 50, 50]             256\n",
      "             ReLU-36          [-1, 128, 50, 50]               0\n",
      "           Conv2d-37          [-1, 128, 48, 48]         147,584\n",
      "             ReLU-38          [-1, 128, 48, 48]               0\n",
      "        Convblock-39          [-1, 128, 48, 48]               0\n",
      "  ConvTranspose2d-40           [-1, 64, 98, 98]          73,792\n",
      "           Conv2d-41           [-1, 64, 98, 98]          73,792\n",
      "      BatchNorm2d-42           [-1, 64, 98, 98]             128\n",
      "             ReLU-43           [-1, 64, 98, 98]               0\n",
      "           Conv2d-44           [-1, 64, 96, 96]          36,928\n",
      "             ReLU-45           [-1, 64, 96, 96]               0\n",
      "        Convblock-46           [-1, 64, 96, 96]               0\n",
      "  ConvTranspose2d-47         [-1, 32, 194, 194]          18,464\n",
      "           Conv2d-48         [-1, 32, 194, 194]          18,464\n",
      "      BatchNorm2d-49         [-1, 32, 194, 194]              64\n",
      "             ReLU-50         [-1, 32, 194, 194]               0\n",
      "           Conv2d-51         [-1, 32, 192, 192]           9,248\n",
      "             ReLU-52         [-1, 32, 192, 192]               0\n",
      "        Convblock-53         [-1, 32, 192, 192]               0\n",
      "           Conv2d-54          [-1, 3, 192, 192]              99\n",
      "================================================================\n",
      "Total params: 6,272,675\n",
      "Trainable params: 6,272,675\n",
      "Non-trainable params: 0\n",
      "----------------------------------------------------------------\n",
      "Input size (MB): 0.75\n",
      "Forward/backward pass size (MB): 296.03\n",
      "Params size (MB): 23.93\n",
      "Estimated Total Size (MB): 320.71\n",
      "----------------------------------------------------------------\n"
     ]
    }
   ],
   "source": [
    "summary(model, image.size())"
   ]
  },
  {
   "cell_type": "code",
   "execution_count": null,
   "metadata": {},
   "outputs": [],
   "source": []
  }
 ],
 "metadata": {
  "kernelspec": {
   "display_name": "chinaa312",
   "language": "python",
   "name": "python3"
  },
  "language_info": {
   "codemirror_mode": {
    "name": "ipython",
    "version": 3
   },
   "file_extension": ".py",
   "mimetype": "text/x-python",
   "name": "python",
   "nbconvert_exporter": "python",
   "pygments_lexer": "ipython3",
   "version": "3.12.3"
  }
 },
 "nbformat": 4,
 "nbformat_minor": 2
}
